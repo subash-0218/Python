{
 "cells": [
  {
   "cell_type": "raw",
   "id": "9ef021b0-5b1a-4ac5-84ca-6b489f08aed4",
   "metadata": {},
   "source": [
    "Question-20\n",
    "# A. Daily attendance of bike tracks\n",
    "every row contains the number of bicycles on every track of the city(montreal), \n",
    "for every day of the year.\n",
    "Can you infer anything from the attendence record?\n",
    "\n",
    "url = \"https://raw.githubusercontent.com/ndas1971/Misc/master/bikes.csv\"\n",
    "\n",
    "1. Read \n",
    "2. Check head \n",
    "3. Check summary statistics \n",
    "4. plot the daily attendance of two tracks, 'Berri1', 'PierDup'\n",
    "5. Check index , explore weekday_name attributes \n",
    "6. Get sum of all attendance as a function of the weekday\n",
    "7. Display this in figure , what is the inference?"
   ]
  },
  {
   "cell_type": "code",
   "execution_count": 25,
   "id": "b877569e-c80d-4945-b1f4-6bc3c6b3d1fa",
   "metadata": {},
   "outputs": [],
   "source": [
    "import pandas as pd\n",
    "import matplotlib.pyplot as plt\n",
    "import numpy as np\n",
    "from datetime import datetime as dt"
   ]
  },
  {
   "cell_type": "code",
   "execution_count": 40,
   "id": "4c5b8f71-611c-4af2-a7ca-178bfc5a50fa",
   "metadata": {},
   "outputs": [],
   "source": [
    "path = r\"code\\data\\bikes.csv\""
   ]
  },
  {
   "cell_type": "code",
   "execution_count": 41,
   "id": "06d0e888-2e44-4428-bf11-85367bc6208d",
   "metadata": {},
   "outputs": [],
   "source": [
    "bike = pd.read_csv(path)"
   ]
  },
  {
   "cell_type": "code",
   "execution_count": 42,
   "id": "e0420b38-e187-447e-9374-589310b7a37b",
   "metadata": {},
   "outputs": [
    {
     "data": {
      "text/html": [
       "<div>\n",
       "<style scoped>\n",
       "    .dataframe tbody tr th:only-of-type {\n",
       "        vertical-align: middle;\n",
       "    }\n",
       "\n",
       "    .dataframe tbody tr th {\n",
       "        vertical-align: top;\n",
       "    }\n",
       "\n",
       "    .dataframe thead th {\n",
       "        text-align: right;\n",
       "    }\n",
       "</style>\n",
       "<table border=\"1\" class=\"dataframe\">\n",
       "  <thead>\n",
       "    <tr style=\"text-align: right;\">\n",
       "      <th></th>\n",
       "      <th>Date</th>\n",
       "      <th>Unnamed: 1</th>\n",
       "      <th>Berri1</th>\n",
       "      <th>CSC</th>\n",
       "      <th>Mais1</th>\n",
       "      <th>Mais2</th>\n",
       "      <th>Parc</th>\n",
       "      <th>PierDup</th>\n",
       "      <th>Rachel1</th>\n",
       "      <th>Totem_Laurier</th>\n",
       "    </tr>\n",
       "  </thead>\n",
       "  <tbody>\n",
       "    <tr>\n",
       "      <th>0</th>\n",
       "      <td>01/01/2013</td>\n",
       "      <td>00:00</td>\n",
       "      <td>0</td>\n",
       "      <td>0</td>\n",
       "      <td>1</td>\n",
       "      <td>0</td>\n",
       "      <td>6</td>\n",
       "      <td>0</td>\n",
       "      <td>1</td>\n",
       "      <td>0</td>\n",
       "    </tr>\n",
       "    <tr>\n",
       "      <th>1</th>\n",
       "      <td>02/01/2013</td>\n",
       "      <td>00:00</td>\n",
       "      <td>69</td>\n",
       "      <td>0</td>\n",
       "      <td>13</td>\n",
       "      <td>0</td>\n",
       "      <td>18</td>\n",
       "      <td>0</td>\n",
       "      <td>2</td>\n",
       "      <td>0</td>\n",
       "    </tr>\n",
       "    <tr>\n",
       "      <th>2</th>\n",
       "      <td>03/01/2013</td>\n",
       "      <td>00:00</td>\n",
       "      <td>69</td>\n",
       "      <td>2</td>\n",
       "      <td>21</td>\n",
       "      <td>6</td>\n",
       "      <td>22</td>\n",
       "      <td>1</td>\n",
       "      <td>0</td>\n",
       "      <td>0</td>\n",
       "    </tr>\n",
       "    <tr>\n",
       "      <th>3</th>\n",
       "      <td>04/01/2013</td>\n",
       "      <td>00:00</td>\n",
       "      <td>80</td>\n",
       "      <td>0</td>\n",
       "      <td>22</td>\n",
       "      <td>4</td>\n",
       "      <td>16</td>\n",
       "      <td>0</td>\n",
       "      <td>125</td>\n",
       "      <td>0</td>\n",
       "    </tr>\n",
       "    <tr>\n",
       "      <th>4</th>\n",
       "      <td>05/01/2013</td>\n",
       "      <td>00:00</td>\n",
       "      <td>52</td>\n",
       "      <td>4</td>\n",
       "      <td>19</td>\n",
       "      <td>3</td>\n",
       "      <td>12</td>\n",
       "      <td>0</td>\n",
       "      <td>97</td>\n",
       "      <td>0</td>\n",
       "    </tr>\n",
       "  </tbody>\n",
       "</table>\n",
       "</div>"
      ],
      "text/plain": [
       "         Date Unnamed: 1  Berri1  CSC  Mais1  Mais2  Parc  PierDup  Rachel1  \\\n",
       "0  01/01/2013      00:00       0    0      1      0     6        0        1   \n",
       "1  02/01/2013      00:00      69    0     13      0    18        0        2   \n",
       "2  03/01/2013      00:00      69    2     21      6    22        1        0   \n",
       "3  04/01/2013      00:00      80    0     22      4    16        0      125   \n",
       "4  05/01/2013      00:00      52    4     19      3    12        0       97   \n",
       "\n",
       "   Totem_Laurier  \n",
       "0              0  \n",
       "1              0  \n",
       "2              0  \n",
       "3              0  \n",
       "4              0  "
      ]
     },
     "execution_count": 42,
     "metadata": {},
     "output_type": "execute_result"
    }
   ],
   "source": [
    "bike.head()"
   ]
  },
  {
   "cell_type": "code",
   "execution_count": 43,
   "id": "c536ea1d-033c-489a-bdce-f67a1bbde903",
   "metadata": {},
   "outputs": [
    {
     "data": {
      "text/plain": [
       "Index(['Date', 'Unnamed: 1', 'Berri1', 'CSC', 'Mais1', 'Mais2', 'Parc',\n",
       "       'PierDup', 'Rachel1', 'Totem_Laurier'],\n",
       "      dtype='object')"
      ]
     },
     "execution_count": 43,
     "metadata": {},
     "output_type": "execute_result"
    }
   ],
   "source": [
    "bike.columns"
   ]
  },
  {
   "cell_type": "code",
   "execution_count": 44,
   "id": "128a4b78-2063-464c-8ee4-cdf7cf3db940",
   "metadata": {},
   "outputs": [
    {
     "data": {
      "text/plain": [
       "(261, 10)"
      ]
     },
     "execution_count": 44,
     "metadata": {},
     "output_type": "execute_result"
    }
   ],
   "source": [
    "bike.shape"
   ]
  },
  {
   "cell_type": "code",
   "execution_count": 45,
   "id": "2232e534-6719-4abe-a003-84d3705de503",
   "metadata": {},
   "outputs": [
    {
     "data": {
      "text/plain": [
       "RangeIndex(start=0, stop=261, step=1)"
      ]
     },
     "execution_count": 45,
     "metadata": {},
     "output_type": "execute_result"
    }
   ],
   "source": [
    "bike.index"
   ]
  },
  {
   "cell_type": "code",
   "execution_count": 46,
   "id": "da1685c6-ea79-4934-a825-bd811a0f0fb3",
   "metadata": {},
   "outputs": [
    {
     "data": {
      "text/plain": [
       "Date             261\n",
       "Unnamed: 1         1\n",
       "Berri1           254\n",
       "CSC              205\n",
       "Mais1            244\n",
       "Mais2            247\n",
       "Parc             242\n",
       "PierDup          201\n",
       "Rachel1          251\n",
       "Totem_Laurier    211\n",
       "dtype: int64"
      ]
     },
     "execution_count": 46,
     "metadata": {},
     "output_type": "execute_result"
    }
   ],
   "source": [
    "bike.nunique()"
   ]
  },
  {
   "cell_type": "code",
   "execution_count": 47,
   "id": "f1d38175-1fca-4bd4-af2a-7cd6c29dfb2c",
   "metadata": {},
   "outputs": [
    {
     "data": {
      "text/plain": [
       "array(['00:00'], dtype=object)"
      ]
     },
     "execution_count": 47,
     "metadata": {},
     "output_type": "execute_result"
    }
   ],
   "source": [
    "bike['Unnamed: 1'].unique()"
   ]
  },
  {
   "cell_type": "code",
   "execution_count": 48,
   "id": "2cc1fc68-f791-4d28-9eb0-c2adcb2d47d9",
   "metadata": {},
   "outputs": [
    {
     "data": {
      "text/plain": [
       "Index(['Date', 'Berri1', 'CSC', 'Mais1', 'Mais2', 'Parc', 'PierDup', 'Rachel1',\n",
       "       'Totem_Laurier'],\n",
       "      dtype='object')"
      ]
     },
     "execution_count": 48,
     "metadata": {},
     "output_type": "execute_result"
    }
   ],
   "source": [
    "bike.drop(columns='Unnamed: 1',inplace=True)\n",
    "bike.columns"
   ]
  },
  {
   "cell_type": "code",
   "execution_count": 49,
   "id": "748b170d-bf4f-4ccd-9766-44af8352c655",
   "metadata": {},
   "outputs": [
    {
     "data": {
      "text/html": [
       "<div>\n",
       "<style scoped>\n",
       "    .dataframe tbody tr th:only-of-type {\n",
       "        vertical-align: middle;\n",
       "    }\n",
       "\n",
       "    .dataframe tbody tr th {\n",
       "        vertical-align: top;\n",
       "    }\n",
       "\n",
       "    .dataframe thead th {\n",
       "        text-align: right;\n",
       "    }\n",
       "</style>\n",
       "<table border=\"1\" class=\"dataframe\">\n",
       "  <thead>\n",
       "    <tr style=\"text-align: right;\">\n",
       "      <th></th>\n",
       "      <th>Berri1</th>\n",
       "      <th>CSC</th>\n",
       "      <th>Mais1</th>\n",
       "      <th>Mais2</th>\n",
       "      <th>Parc</th>\n",
       "      <th>PierDup</th>\n",
       "      <th>Rachel1</th>\n",
       "      <th>Totem_Laurier</th>\n",
       "    </tr>\n",
       "  </thead>\n",
       "  <tbody>\n",
       "    <tr>\n",
       "      <th>count</th>\n",
       "      <td>261.000000</td>\n",
       "      <td>261.000000</td>\n",
       "      <td>261.000000</td>\n",
       "      <td>261.000000</td>\n",
       "      <td>261.000000</td>\n",
       "      <td>261.000000</td>\n",
       "      <td>261.000000</td>\n",
       "      <td>261.000000</td>\n",
       "    </tr>\n",
       "    <tr>\n",
       "      <th>mean</th>\n",
       "      <td>2743.390805</td>\n",
       "      <td>1221.858238</td>\n",
       "      <td>1757.590038</td>\n",
       "      <td>3224.130268</td>\n",
       "      <td>1669.425287</td>\n",
       "      <td>1152.885057</td>\n",
       "      <td>3084.425287</td>\n",
       "      <td>1858.793103</td>\n",
       "    </tr>\n",
       "    <tr>\n",
       "      <th>std</th>\n",
       "      <td>2247.957848</td>\n",
       "      <td>1070.037364</td>\n",
       "      <td>1458.793882</td>\n",
       "      <td>2589.514354</td>\n",
       "      <td>1363.738862</td>\n",
       "      <td>1208.848429</td>\n",
       "      <td>2380.255540</td>\n",
       "      <td>1434.899574</td>\n",
       "    </tr>\n",
       "    <tr>\n",
       "      <th>min</th>\n",
       "      <td>0.000000</td>\n",
       "      <td>0.000000</td>\n",
       "      <td>1.000000</td>\n",
       "      <td>0.000000</td>\n",
       "      <td>6.000000</td>\n",
       "      <td>0.000000</td>\n",
       "      <td>0.000000</td>\n",
       "      <td>0.000000</td>\n",
       "    </tr>\n",
       "    <tr>\n",
       "      <th>25%</th>\n",
       "      <td>392.000000</td>\n",
       "      <td>12.000000</td>\n",
       "      <td>236.000000</td>\n",
       "      <td>516.000000</td>\n",
       "      <td>222.000000</td>\n",
       "      <td>12.000000</td>\n",
       "      <td>451.000000</td>\n",
       "      <td>340.000000</td>\n",
       "    </tr>\n",
       "    <tr>\n",
       "      <th>50%</th>\n",
       "      <td>2771.000000</td>\n",
       "      <td>1184.000000</td>\n",
       "      <td>1706.000000</td>\n",
       "      <td>3178.000000</td>\n",
       "      <td>1584.000000</td>\n",
       "      <td>818.000000</td>\n",
       "      <td>3111.000000</td>\n",
       "      <td>2087.000000</td>\n",
       "    </tr>\n",
       "    <tr>\n",
       "      <th>75%</th>\n",
       "      <td>4767.000000</td>\n",
       "      <td>2168.000000</td>\n",
       "      <td>3158.000000</td>\n",
       "      <td>5812.000000</td>\n",
       "      <td>3068.000000</td>\n",
       "      <td>2104.000000</td>\n",
       "      <td>5338.000000</td>\n",
       "      <td>3168.000000</td>\n",
       "    </tr>\n",
       "    <tr>\n",
       "      <th>max</th>\n",
       "      <td>6803.000000</td>\n",
       "      <td>3330.000000</td>\n",
       "      <td>4716.000000</td>\n",
       "      <td>7684.000000</td>\n",
       "      <td>4103.000000</td>\n",
       "      <td>4841.000000</td>\n",
       "      <td>8555.000000</td>\n",
       "      <td>4293.000000</td>\n",
       "    </tr>\n",
       "  </tbody>\n",
       "</table>\n",
       "</div>"
      ],
      "text/plain": [
       "            Berri1          CSC        Mais1        Mais2         Parc  \\\n",
       "count   261.000000   261.000000   261.000000   261.000000   261.000000   \n",
       "mean   2743.390805  1221.858238  1757.590038  3224.130268  1669.425287   \n",
       "std    2247.957848  1070.037364  1458.793882  2589.514354  1363.738862   \n",
       "min       0.000000     0.000000     1.000000     0.000000     6.000000   \n",
       "25%     392.000000    12.000000   236.000000   516.000000   222.000000   \n",
       "50%    2771.000000  1184.000000  1706.000000  3178.000000  1584.000000   \n",
       "75%    4767.000000  2168.000000  3158.000000  5812.000000  3068.000000   \n",
       "max    6803.000000  3330.000000  4716.000000  7684.000000  4103.000000   \n",
       "\n",
       "           PierDup      Rachel1  Totem_Laurier  \n",
       "count   261.000000   261.000000     261.000000  \n",
       "mean   1152.885057  3084.425287    1858.793103  \n",
       "std    1208.848429  2380.255540    1434.899574  \n",
       "min       0.000000     0.000000       0.000000  \n",
       "25%      12.000000   451.000000     340.000000  \n",
       "50%     818.000000  3111.000000    2087.000000  \n",
       "75%    2104.000000  5338.000000    3168.000000  \n",
       "max    4841.000000  8555.000000    4293.000000  "
      ]
     },
     "execution_count": 49,
     "metadata": {},
     "output_type": "execute_result"
    }
   ],
   "source": [
    "bike.describe()"
   ]
  },
  {
   "cell_type": "code",
   "execution_count": 50,
   "id": "36234bf6-0eda-44ee-944e-194ab2a78434",
   "metadata": {},
   "outputs": [
    {
     "data": {
      "image/png": "[encoded data removed]",
      "text/plain": [
       "<Figure size 1200x600 with 1 Axes>"
      ]
     },
     "metadata": {},
     "output_type": "display_data"
    }
   ],
   "source": [
    "# Plot the daily attendance of two tracks, 'Berri1', 'PierDup'\n",
    "plt.figure(figsize=(12, 6))\n",
    "plt.plot(bike['Berri1'], label='Berri1', color='blue')\n",
    "plt.plot(bike['PierDup'], label='PierDup', color='orange')\n",
    "\n",
    "plt.title('Daily Bike Attendance: Berri1 vs PierDup')\n",
    "plt.xlabel('Date')\n",
    "plt.ylabel('Bike Count')\n",
    "plt.legend()\n",
    "plt.grid(True)\n",
    "plt.tight_layout()\n",
    "plt.show()"
   ]
  },
  {
   "cell_type": "code",
   "execution_count": 51,
   "id": "6e0d5e0e-1237-49a0-93f1-7068c22c3660",
   "metadata": {},
   "outputs": [
    {
     "data": {
      "text/plain": [
       "Berri1           716025\n",
       "CSC              318905\n",
       "Mais1            458731\n",
       "Mais2            841498\n",
       "Parc             435720\n",
       "PierDup          300903\n",
       "Rachel1          805035\n",
       "Totem_Laurier    485145\n",
       "dtype: int64"
      ]
     },
     "execution_count": 51,
     "metadata": {},
     "output_type": "execute_result"
    }
   ],
   "source": [
    "#Total no:of bikes on each track in all dates\n",
    "track_total = bike.drop(columns='Date').sum(axis=0)\n",
    "track_total"
   ]
  },
  {
   "cell_type": "code",
   "execution_count": 52,
   "id": "3e69d028-c5f4-4e32-a6ce-02dfe62a7795",
   "metadata": {},
   "outputs": [
    {
     "data": {
      "image/png": "[encoded data removed]",
      "text/plain": [
       "<Figure size 1200x600 with 1 Axes>"
      ]
     },
     "metadata": {},
     "output_type": "display_data"
    }
   ],
   "source": [
    "plt.figure(figsize=(12,6))\n",
    "plt.bar(track_total.index,track_total.values,color='skyblue')\n",
    "plt.xlabel('Track')\n",
    "plt.ylabel('Total Bikes')\n",
    "plt.title('Total Bikes Counted per Track')\n",
    "plt.grid(axis='y')\n",
    "plt.tight_layout()\n",
    "plt.show()"
   ]
  },
  {
   "cell_type": "code",
   "execution_count": 53,
   "id": "d250b5b3-2832-4d44-9d08-0863ee2ce9e2",
   "metadata": {},
   "outputs": [
    {
     "data": {
      "text/plain": [
       "(10    11/01/2013\n",
       " 11    12/01/2013\n",
       " 12    13/01/2013\n",
       " 13    14/01/2013\n",
       " 14    15/01/2013\n",
       " 15    16/01/2013\n",
       " 16    17/01/2013\n",
       " 17    18/01/2013\n",
       " 18    19/01/2013\n",
       " 19    20/01/2013\n",
       " Name: Date, dtype: object,\n",
       " str)"
      ]
     },
     "execution_count": 53,
     "metadata": {},
     "output_type": "execute_result"
    }
   ],
   "source": [
    "bike['Date'][10:20],type(bike['Date'][0])"
   ]
  },
  {
   "cell_type": "code",
   "execution_count": 54,
   "id": "4549b4d7-f879-467e-9841-b870a2a2a922",
   "metadata": {},
   "outputs": [
    {
     "data": {
      "text/plain": [
       "pandas._libs.tslibs.timestamps.Timestamp"
      ]
     },
     "execution_count": 54,
     "metadata": {},
     "output_type": "execute_result"
    }
   ],
   "source": [
    "bike['Date']=pd.to_datetime(bike['Date'],format=\"%d/%m/%Y\")\n",
    "type(bike['Date'][0])"
   ]
  },
  {
   "cell_type": "code",
   "execution_count": 55,
   "id": "df4a32b2-6d53-431a-a21f-99ad479ee2d4",
   "metadata": {},
   "outputs": [
    {
     "data": {
      "text/plain": [
       "('Tuesday', 2013)"
      ]
     },
     "execution_count": 55,
     "metadata": {},
     "output_type": "execute_result"
    }
   ],
   "source": [
    "bike['Date'][0].day_name(),bike['Date'][0].year"
   ]
  },
  {
   "cell_type": "code",
   "execution_count": 56,
   "id": "87b7838b-b506-4c55-9982-a98ee84cf051",
   "metadata": {},
   "outputs": [
    {
     "data": {
      "text/plain": [
       "(0        Tuesday\n",
       " 1      Wednesday\n",
       " 2       Thursday\n",
       " 3         Friday\n",
       " 4       Saturday\n",
       "          ...    \n",
       " 256     Saturday\n",
       " 257       Sunday\n",
       " 258       Monday\n",
       " 259      Tuesday\n",
       " 260    Wednesday\n",
       " Name: Date, Length: 261, dtype: object,\n",
       " 0      2013\n",
       " 1      2013\n",
       " 2      2013\n",
       " 3      2013\n",
       " 4      2013\n",
       "        ... \n",
       " 256    2013\n",
       " 257    2013\n",
       " 258    2013\n",
       " 259    2013\n",
       " 260    2013\n",
       " Name: Date, Length: 261, dtype: int32)"
      ]
     },
     "execution_count": 56,
     "metadata": {},
     "output_type": "execute_result"
    }
   ],
   "source": [
    "bike['Date'].dt.day_name(),bike['Date'].dt.year"
   ]
  },
  {
   "cell_type": "code",
   "execution_count": 57,
   "id": "48cdebaa-451b-41bf-b69d-8f49741b0635",
   "metadata": {},
   "outputs": [],
   "source": [
    "bike['day']=bike['Date'].dt.day_name()"
   ]
  },
  {
   "cell_type": "code",
   "execution_count": 58,
   "id": "b014e4b7-24e2-4071-baec-25a98191f478",
   "metadata": {},
   "outputs": [
    {
     "data": {
      "text/html": [
       "<div>\n",
       "<style scoped>\n",
       "    .dataframe tbody tr th:only-of-type {\n",
       "        vertical-align: middle;\n",
       "    }\n",
       "\n",
       "    .dataframe tbody tr th {\n",
       "        vertical-align: top;\n",
       "    }\n",
       "\n",
       "    .dataframe thead th {\n",
       "        text-align: right;\n",
       "    }\n",
       "</style>\n",
       "<table border=\"1\" class=\"dataframe\">\n",
       "  <thead>\n",
       "    <tr style=\"text-align: right;\">\n",
       "      <th></th>\n",
       "      <th>Date</th>\n",
       "      <th>Berri1</th>\n",
       "      <th>CSC</th>\n",
       "      <th>Mais1</th>\n",
       "      <th>Mais2</th>\n",
       "      <th>Parc</th>\n",
       "      <th>PierDup</th>\n",
       "      <th>Rachel1</th>\n",
       "      <th>Totem_Laurier</th>\n",
       "      <th>day</th>\n",
       "    </tr>\n",
       "  </thead>\n",
       "  <tbody>\n",
       "    <tr>\n",
       "      <th>0</th>\n",
       "      <td>2013-01-01</td>\n",
       "      <td>0</td>\n",
       "      <td>0</td>\n",
       "      <td>1</td>\n",
       "      <td>0</td>\n",
       "      <td>6</td>\n",
       "      <td>0</td>\n",
       "      <td>1</td>\n",
       "      <td>0</td>\n",
       "      <td>Tuesday</td>\n",
       "    </tr>\n",
       "    <tr>\n",
       "      <th>1</th>\n",
       "      <td>2013-01-02</td>\n",
       "      <td>69</td>\n",
       "      <td>0</td>\n",
       "      <td>13</td>\n",
       "      <td>0</td>\n",
       "      <td>18</td>\n",
       "      <td>0</td>\n",
       "      <td>2</td>\n",
       "      <td>0</td>\n",
       "      <td>Wednesday</td>\n",
       "    </tr>\n",
       "    <tr>\n",
       "      <th>2</th>\n",
       "      <td>2013-01-03</td>\n",
       "      <td>69</td>\n",
       "      <td>2</td>\n",
       "      <td>21</td>\n",
       "      <td>6</td>\n",
       "      <td>22</td>\n",
       "      <td>1</td>\n",
       "      <td>0</td>\n",
       "      <td>0</td>\n",
       "      <td>Thursday</td>\n",
       "    </tr>\n",
       "    <tr>\n",
       "      <th>3</th>\n",
       "      <td>2013-01-04</td>\n",
       "      <td>80</td>\n",
       "      <td>0</td>\n",
       "      <td>22</td>\n",
       "      <td>4</td>\n",
       "      <td>16</td>\n",
       "      <td>0</td>\n",
       "      <td>125</td>\n",
       "      <td>0</td>\n",
       "      <td>Friday</td>\n",
       "    </tr>\n",
       "    <tr>\n",
       "      <th>4</th>\n",
       "      <td>2013-01-05</td>\n",
       "      <td>52</td>\n",
       "      <td>4</td>\n",
       "      <td>19</td>\n",
       "      <td>3</td>\n",
       "      <td>12</td>\n",
       "      <td>0</td>\n",
       "      <td>97</td>\n",
       "      <td>0</td>\n",
       "      <td>Saturday</td>\n",
       "    </tr>\n",
       "  </tbody>\n",
       "</table>\n",
       "</div>"
      ],
      "text/plain": [
       "        Date  Berri1  CSC  Mais1  Mais2  Parc  PierDup  Rachel1  \\\n",
       "0 2013-01-01       0    0      1      0     6        0        1   \n",
       "1 2013-01-02      69    0     13      0    18        0        2   \n",
       "2 2013-01-03      69    2     21      6    22        1        0   \n",
       "3 2013-01-04      80    0     22      4    16        0      125   \n",
       "4 2013-01-05      52    4     19      3    12        0       97   \n",
       "\n",
       "   Totem_Laurier        day  \n",
       "0              0    Tuesday  \n",
       "1              0  Wednesday  \n",
       "2              0   Thursday  \n",
       "3              0     Friday  \n",
       "4              0   Saturday  "
      ]
     },
     "execution_count": 58,
     "metadata": {},
     "output_type": "execute_result"
    }
   ],
   "source": [
    "bike.head()"
   ]
  },
  {
   "cell_type": "code",
   "execution_count": 59,
   "id": "3f9e6d20-67ed-4d87-be17-174a7e31906d",
   "metadata": {},
   "outputs": [
    {
     "data": {
      "text/plain": [
       "0        Tuesday\n",
       "1      Wednesday\n",
       "2       Thursday\n",
       "3         Friday\n",
       "4       Saturday\n",
       "         ...    \n",
       "256     Saturday\n",
       "257       Sunday\n",
       "258       Monday\n",
       "259      Tuesday\n",
       "260    Wednesday\n",
       "Name: day, Length: 261, dtype: object"
      ]
     },
     "execution_count": 59,
     "metadata": {},
     "output_type": "execute_result"
    }
   ],
   "source": [
    "bike.day"
   ]
  },
  {
   "cell_type": "code",
   "execution_count": 60,
   "id": "d84606f9-a130-4054-9b0e-9168212a3365",
   "metadata": {},
   "outputs": [],
   "source": [
    "bike['week_day'] = bike['Date'].dt.weekday"
   ]
  },
  {
   "cell_type": "code",
   "execution_count": 61,
   "id": "f1b7df49-efe4-40c0-ac13-ad6953097e15",
   "metadata": {},
   "outputs": [
    {
     "data": {
      "text/html": [
       "<div>\n",
       "<style scoped>\n",
       "    .dataframe tbody tr th:only-of-type {\n",
       "        vertical-align: middle;\n",
       "    }\n",
       "\n",
       "    .dataframe tbody tr th {\n",
       "        vertical-align: top;\n",
       "    }\n",
       "\n",
       "    .dataframe thead th {\n",
       "        text-align: right;\n",
       "    }\n",
       "</style>\n",
       "<table border=\"1\" class=\"dataframe\">\n",
       "  <thead>\n",
       "    <tr style=\"text-align: right;\">\n",
       "      <th></th>\n",
       "      <th>Date</th>\n",
       "      <th>Berri1</th>\n",
       "      <th>CSC</th>\n",
       "      <th>Mais1</th>\n",
       "      <th>Mais2</th>\n",
       "      <th>Parc</th>\n",
       "      <th>PierDup</th>\n",
       "      <th>Rachel1</th>\n",
       "      <th>Totem_Laurier</th>\n",
       "      <th>day</th>\n",
       "      <th>week_day</th>\n",
       "    </tr>\n",
       "  </thead>\n",
       "  <tbody>\n",
       "    <tr>\n",
       "      <th>0</th>\n",
       "      <td>2013-01-01</td>\n",
       "      <td>0</td>\n",
       "      <td>0</td>\n",
       "      <td>1</td>\n",
       "      <td>0</td>\n",
       "      <td>6</td>\n",
       "      <td>0</td>\n",
       "      <td>1</td>\n",
       "      <td>0</td>\n",
       "      <td>Tuesday</td>\n",
       "      <td>1</td>\n",
       "    </tr>\n",
       "    <tr>\n",
       "      <th>1</th>\n",
       "      <td>2013-01-02</td>\n",
       "      <td>69</td>\n",
       "      <td>0</td>\n",
       "      <td>13</td>\n",
       "      <td>0</td>\n",
       "      <td>18</td>\n",
       "      <td>0</td>\n",
       "      <td>2</td>\n",
       "      <td>0</td>\n",
       "      <td>Wednesday</td>\n",
       "      <td>2</td>\n",
       "    </tr>\n",
       "    <tr>\n",
       "      <th>2</th>\n",
       "      <td>2013-01-03</td>\n",
       "      <td>69</td>\n",
       "      <td>2</td>\n",
       "      <td>21</td>\n",
       "      <td>6</td>\n",
       "      <td>22</td>\n",
       "      <td>1</td>\n",
       "      <td>0</td>\n",
       "      <td>0</td>\n",
       "      <td>Thursday</td>\n",
       "      <td>3</td>\n",
       "    </tr>\n",
       "    <tr>\n",
       "      <th>3</th>\n",
       "      <td>2013-01-04</td>\n",
       "      <td>80</td>\n",
       "      <td>0</td>\n",
       "      <td>22</td>\n",
       "      <td>4</td>\n",
       "      <td>16</td>\n",
       "      <td>0</td>\n",
       "      <td>125</td>\n",
       "      <td>0</td>\n",
       "      <td>Friday</td>\n",
       "      <td>4</td>\n",
       "    </tr>\n",
       "    <tr>\n",
       "      <th>4</th>\n",
       "      <td>2013-01-05</td>\n",
       "      <td>52</td>\n",
       "      <td>4</td>\n",
       "      <td>19</td>\n",
       "      <td>3</td>\n",
       "      <td>12</td>\n",
       "      <td>0</td>\n",
       "      <td>97</td>\n",
       "      <td>0</td>\n",
       "      <td>Saturday</td>\n",
       "      <td>5</td>\n",
       "    </tr>\n",
       "  </tbody>\n",
       "</table>\n",
       "</div>"
      ],
      "text/plain": [
       "        Date  Berri1  CSC  Mais1  Mais2  Parc  PierDup  Rachel1  \\\n",
       "0 2013-01-01       0    0      1      0     6        0        1   \n",
       "1 2013-01-02      69    0     13      0    18        0        2   \n",
       "2 2013-01-03      69    2     21      6    22        1        0   \n",
       "3 2013-01-04      80    0     22      4    16        0      125   \n",
       "4 2013-01-05      52    4     19      3    12        0       97   \n",
       "\n",
       "   Totem_Laurier        day  week_day  \n",
       "0              0    Tuesday         1  \n",
       "1              0  Wednesday         2  \n",
       "2              0   Thursday         3  \n",
       "3              0     Friday         4  \n",
       "4              0   Saturday         5  "
      ]
     },
     "execution_count": 61,
     "metadata": {},
     "output_type": "execute_result"
    }
   ],
   "source": [
    "bike['week_day']\n",
    "bike.head()"
   ]
  },
  {
   "cell_type": "code",
   "execution_count": 62,
   "id": "60fc6852-13fc-427e-ba57-4dec74651c33",
   "metadata": {},
   "outputs": [],
   "source": [
    "bike['Day_type'] = ['Week_end' if day in ['Sunday', 'Saturday'] else 'Week_day' for day in bike['day']]\n",
    "\n",
    "#bike['Day_type'] = bike['day'].apply(lambda x: 'Week_end' if x in ['Sunday', 'Saturday'] else 'Week_day')\n"
   ]
  },
  {
   "cell_type": "code",
   "execution_count": 63,
   "id": "8093c097-605f-4afc-a986-cec91c6a115b",
   "metadata": {},
   "outputs": [
    {
     "data": {
      "text/plain": [
       "2"
      ]
     },
     "execution_count": 63,
     "metadata": {},
     "output_type": "execute_result"
    }
   ],
   "source": [
    "bike['Day_type'].nunique()"
   ]
  },
  {
   "cell_type": "code",
   "execution_count": 64,
   "id": "bdcb6317-0e68-4dae-b52b-63ea1b056f98",
   "metadata": {},
   "outputs": [
    {
     "data": {
      "text/plain": [
       "Index(['Date', 'Berri1', 'CSC', 'Mais1', 'Mais2', 'Parc', 'PierDup', 'Rachel1',\n",
       "       'Totem_Laurier', 'day', 'week_day', 'Day_type'],\n",
       "      dtype='object')"
      ]
     },
     "execution_count": 64,
     "metadata": {},
     "output_type": "execute_result"
    }
   ],
   "source": [
    "bike.columns"
   ]
  },
  {
   "cell_type": "code",
   "execution_count": 69,
   "id": "015d3d6a-e867-4af3-8235-2615f896e6af",
   "metadata": {},
   "outputs": [
    {
     "data": {
      "text/html": [
       "<div>\n",
       "<style scoped>\n",
       "    .dataframe tbody tr th:only-of-type {\n",
       "        vertical-align: middle;\n",
       "    }\n",
       "\n",
       "    .dataframe tbody tr th {\n",
       "        vertical-align: top;\n",
       "    }\n",
       "\n",
       "    .dataframe thead th {\n",
       "        text-align: right;\n",
       "    }\n",
       "</style>\n",
       "<table border=\"1\" class=\"dataframe\">\n",
       "  <thead>\n",
       "    <tr style=\"text-align: right;\">\n",
       "      <th></th>\n",
       "      <th>Date</th>\n",
       "      <th>Berri1</th>\n",
       "      <th>CSC</th>\n",
       "      <th>Mais1</th>\n",
       "      <th>Mais2</th>\n",
       "      <th>Parc</th>\n",
       "      <th>PierDup</th>\n",
       "      <th>Rachel1</th>\n",
       "      <th>Totem_Laurier</th>\n",
       "      <th>day</th>\n",
       "      <th>week_day</th>\n",
       "      <th>Day_type</th>\n",
       "      <th>Total_bikes_per_day</th>\n",
       "    </tr>\n",
       "  </thead>\n",
       "  <tbody>\n",
       "    <tr>\n",
       "      <th>0</th>\n",
       "      <td>2013-01-01</td>\n",
       "      <td>0</td>\n",
       "      <td>0</td>\n",
       "      <td>1</td>\n",
       "      <td>0</td>\n",
       "      <td>6</td>\n",
       "      <td>0</td>\n",
       "      <td>1</td>\n",
       "      <td>0</td>\n",
       "      <td>Tuesday</td>\n",
       "      <td>1</td>\n",
       "      <td>Week_day</td>\n",
       "      <td>16</td>\n",
       "    </tr>\n",
       "    <tr>\n",
       "      <th>1</th>\n",
       "      <td>2013-01-02</td>\n",
       "      <td>69</td>\n",
       "      <td>0</td>\n",
       "      <td>13</td>\n",
       "      <td>0</td>\n",
       "      <td>18</td>\n",
       "      <td>0</td>\n",
       "      <td>2</td>\n",
       "      <td>0</td>\n",
       "      <td>Wednesday</td>\n",
       "      <td>2</td>\n",
       "      <td>Week_day</td>\n",
       "      <td>204</td>\n",
       "    </tr>\n",
       "    <tr>\n",
       "      <th>2</th>\n",
       "      <td>2013-01-03</td>\n",
       "      <td>69</td>\n",
       "      <td>2</td>\n",
       "      <td>21</td>\n",
       "      <td>6</td>\n",
       "      <td>22</td>\n",
       "      <td>1</td>\n",
       "      <td>0</td>\n",
       "      <td>0</td>\n",
       "      <td>Thursday</td>\n",
       "      <td>3</td>\n",
       "      <td>Week_day</td>\n",
       "      <td>242</td>\n",
       "    </tr>\n",
       "    <tr>\n",
       "      <th>3</th>\n",
       "      <td>2013-01-04</td>\n",
       "      <td>80</td>\n",
       "      <td>0</td>\n",
       "      <td>22</td>\n",
       "      <td>4</td>\n",
       "      <td>16</td>\n",
       "      <td>0</td>\n",
       "      <td>125</td>\n",
       "      <td>0</td>\n",
       "      <td>Friday</td>\n",
       "      <td>4</td>\n",
       "      <td>Week_day</td>\n",
       "      <td>494</td>\n",
       "    </tr>\n",
       "    <tr>\n",
       "      <th>4</th>\n",
       "      <td>2013-01-05</td>\n",
       "      <td>52</td>\n",
       "      <td>4</td>\n",
       "      <td>19</td>\n",
       "      <td>3</td>\n",
       "      <td>12</td>\n",
       "      <td>0</td>\n",
       "      <td>97</td>\n",
       "      <td>0</td>\n",
       "      <td>Saturday</td>\n",
       "      <td>5</td>\n",
       "      <td>Week_end</td>\n",
       "      <td>374</td>\n",
       "    </tr>\n",
       "  </tbody>\n",
       "</table>\n",
       "</div>"
      ],
      "text/plain": [
       "        Date  Berri1  CSC  Mais1  Mais2  Parc  PierDup  Rachel1  \\\n",
       "0 2013-01-01       0    0      1      0     6        0        1   \n",
       "1 2013-01-02      69    0     13      0    18        0        2   \n",
       "2 2013-01-03      69    2     21      6    22        1        0   \n",
       "3 2013-01-04      80    0     22      4    16        0      125   \n",
       "4 2013-01-05      52    4     19      3    12        0       97   \n",
       "\n",
       "   Totem_Laurier        day  week_day  Day_type  Total_bikes_per_day  \n",
       "0              0    Tuesday         1  Week_day                   16  \n",
       "1              0  Wednesday         2  Week_day                  204  \n",
       "2              0   Thursday         3  Week_day                  242  \n",
       "3              0     Friday         4  Week_day                  494  \n",
       "4              0   Saturday         5  Week_end                  374  "
      ]
     },
     "execution_count": 69,
     "metadata": {},
     "output_type": "execute_result"
    }
   ],
   "source": [
    "bike['Total_bikes_per_day'] = bike.drop(columns=['Date','day','Day_type','week_day']).sum(axis=1)\n",
    "bike.head()"
   ]
  },
  {
   "cell_type": "code",
   "execution_count": 66,
   "id": "e61eba7a-e94f-4175-91cb-42f8db5c0ada",
   "metadata": {},
   "outputs": [
    {
     "data": {
      "text/plain": [
       "Index(['Date', 'Berri1', 'CSC', 'Mais1', 'Mais2', 'Parc', 'PierDup', 'Rachel1',\n",
       "       'Totem_Laurier', 'day', 'week_day', 'Day_type', 'Total_bikes_per_day'],\n",
       "      dtype='object')"
      ]
     },
     "execution_count": 66,
     "metadata": {},
     "output_type": "execute_result"
    }
   ],
   "source": [
    "bike.columns"
   ]
  },
  {
   "cell_type": "code",
   "execution_count": 67,
   "id": "eab5fb45-4e50-46f2-ba54-d6de94e50306",
   "metadata": {},
   "outputs": [
    {
     "data": {
      "text/plain": [
       "(0          8\n",
       " 1        102\n",
       " 2        121\n",
       " 3        247\n",
       " 4        187\n",
       "        ...  \n",
       " 256    16386\n",
       " 257    17755\n",
       " 258    26402\n",
       " 259    33292\n",
       " 260    19116\n",
       " Name: Total_bikes_per_day, Length: 261, dtype: int64,\n",
       " 4361962)"
      ]
     },
     "execution_count": 67,
     "metadata": {},
     "output_type": "execute_result"
    }
   ],
   "source": [
    "bike.Total_bikes_per_day,bike['Total_bikes_per_day'].sum(axis=0)"
   ]
  },
  {
   "cell_type": "code",
   "execution_count": 68,
   "id": "b4792c94-47f1-444d-9db4-aad9ae3d8d44",
   "metadata": {},
   "outputs": [
    {
     "data": {
      "image/png": "[encoded data removed]",
      "text/plain": [
       "<Figure size 1400x600 with 1 Axes>"
      ]
     },
     "metadata": {},
     "output_type": "display_data"
    }
   ],
   "source": [
    "plt.figure(figsize=(14, 6))\n",
    "plt.plot(bike['Total_bikes_per_day'],'r-')\n",
    "plt.title('Total bikes per day over the period')\n",
    "plt.xlabel('Date')\n",
    "plt.ylabel('Total Bikes')\n",
    "plt.grid(True)\n",
    "plt.tight_layout()\n",
    "plt.show()\n"
   ]
  },
  {
   "cell_type": "code",
   "execution_count": 31,
   "id": "d35544af-45be-45da-90eb-14422122a524",
   "metadata": {},
   "outputs": [
    {
     "data": {
      "text/html": [
       "<div>\n",
       "<style scoped>\n",
       "    .dataframe tbody tr th:only-of-type {\n",
       "        vertical-align: middle;\n",
       "    }\n",
       "\n",
       "    .dataframe tbody tr th {\n",
       "        vertical-align: top;\n",
       "    }\n",
       "\n",
       "    .dataframe thead th {\n",
       "        text-align: right;\n",
       "    }\n",
       "</style>\n",
       "<table border=\"1\" class=\"dataframe\">\n",
       "  <thead>\n",
       "    <tr style=\"text-align: right;\">\n",
       "      <th></th>\n",
       "      <th></th>\n",
       "      <th>Total_bikes_per_day</th>\n",
       "    </tr>\n",
       "    <tr>\n",
       "      <th>week_day</th>\n",
       "      <th>day</th>\n",
       "      <th></th>\n",
       "    </tr>\n",
       "  </thead>\n",
       "  <tbody>\n",
       "    <tr>\n",
       "      <th>0</th>\n",
       "      <th>Monday</th>\n",
       "      <td>662902</td>\n",
       "    </tr>\n",
       "    <tr>\n",
       "      <th>1</th>\n",
       "      <th>Tuesday</th>\n",
       "      <td>705161</td>\n",
       "    </tr>\n",
       "    <tr>\n",
       "      <th>2</th>\n",
       "      <th>Wednesday</th>\n",
       "      <td>732606</td>\n",
       "    </tr>\n",
       "    <tr>\n",
       "      <th>3</th>\n",
       "      <th>Thursday</th>\n",
       "      <td>690471</td>\n",
       "    </tr>\n",
       "    <tr>\n",
       "      <th>4</th>\n",
       "      <th>Friday</th>\n",
       "      <td>640301</td>\n",
       "    </tr>\n",
       "    <tr>\n",
       "      <th>5</th>\n",
       "      <th>Saturday</th>\n",
       "      <td>463944</td>\n",
       "    </tr>\n",
       "    <tr>\n",
       "      <th>6</th>\n",
       "      <th>Sunday</th>\n",
       "      <td>466577</td>\n",
       "    </tr>\n",
       "  </tbody>\n",
       "</table>\n",
       "</div>"
      ],
      "text/plain": [
       "                    Total_bikes_per_day\n",
       "week_day day                           \n",
       "0        Monday                  662902\n",
       "1        Tuesday                 705161\n",
       "2        Wednesday               732606\n",
       "3        Thursday                690471\n",
       "4        Friday                  640301\n",
       "5        Saturday                463944\n",
       "6        Sunday                  466577"
      ]
     },
     "execution_count": 31,
     "metadata": {},
     "output_type": "execute_result"
    }
   ],
   "source": [
    "#Get sum of all attendance as a function of the weekday\n",
    "bike.groupby(['week_day','day']).agg({'Total_bikes_per_day':'sum'})"
   ]
  },
  {
   "cell_type": "code",
   "execution_count": 32,
   "id": "1cc5ede6-9de8-4cd4-988b-9658c148e2b9",
   "metadata": {},
   "outputs": [
    {
     "data": {
      "image/png": "[encoded data removed]",
      "text/plain": [
       "<Figure size 1000x600 with 1 Axes>"
      ]
     },
     "metadata": {},
     "output_type": "display_data"
    }
   ],
   "source": [
    "day_vs_total = bike.groupby('day').agg({'Total_bikes_per_day': 'sum'}).sort_values('Total_bikes_per_day',ascending=False)\n",
    "\n",
    "plt.figure(figsize=(10, 6))\n",
    "plt.bar(day_vs_total.index, day_vs_total.Total_bikes_per_day, color=\"orange\")\n",
    "plt.xlabel(\"Week_day\")\n",
    "plt.ylabel(\"Total_no_of_Bikes\")\n",
    "plt.grid(axis=\"y\")\n",
    "plt.tight_layout()\n",
    "plt.show()\n",
    "\n"
   ]
  },
  {
   "cell_type": "code",
   "execution_count": 33,
   "id": "35ba9daa-45b3-4a17-929d-925f5508209e",
   "metadata": {},
   "outputs": [
    {
     "data": {
      "image/png": "[encoded data removed]",
      "text/plain": [
       "<Figure size 1000x600 with 1 Axes>"
      ]
     },
     "metadata": {},
     "output_type": "display_data"
    }
   ],
   "source": [
    "day_vs_total = bike.groupby('week_day').agg({'Total_bikes_per_day': 'sum'})\n",
    "\n",
    " \n",
    "\n",
    "plt.figure(figsize=(10, 6))\n",
    "plt.plot(day_vs_total.index, day_vs_total['Total_bikes_per_day'], marker='o', linestyle='-', color='orange')\n",
    "plt.title(\"Total Bike Usage by Day of the Week\")\n",
    "plt.xlabel(\"Day of the Week\")\n",
    "plt.ylabel(\"Total Number of Bikes\")\n",
    "plt.grid(axis='y')\n",
    "plt.tight_layout()\n",
    "plt.show()\n"
   ]
  },
  {
   "cell_type": "code",
   "execution_count": 34,
   "id": "95d2ce4a-7dfc-4151-938a-7af9a247f41d",
   "metadata": {},
   "outputs": [
    {
     "data": {
      "text/html": [
       "<div>\n",
       "<style scoped>\n",
       "    .dataframe tbody tr th:only-of-type {\n",
       "        vertical-align: middle;\n",
       "    }\n",
       "\n",
       "    .dataframe tbody tr th {\n",
       "        vertical-align: top;\n",
       "    }\n",
       "\n",
       "    .dataframe thead th {\n",
       "        text-align: right;\n",
       "    }\n",
       "</style>\n",
       "<table border=\"1\" class=\"dataframe\">\n",
       "  <thead>\n",
       "    <tr style=\"text-align: right;\">\n",
       "      <th></th>\n",
       "      <th>Total_bikes_per_day</th>\n",
       "    </tr>\n",
       "    <tr>\n",
       "      <th>Day_type</th>\n",
       "      <th></th>\n",
       "    </tr>\n",
       "  </thead>\n",
       "  <tbody>\n",
       "    <tr>\n",
       "      <th>Week_day</th>\n",
       "      <td>3431441</td>\n",
       "    </tr>\n",
       "    <tr>\n",
       "      <th>Week_end</th>\n",
       "      <td>930521</td>\n",
       "    </tr>\n",
       "  </tbody>\n",
       "</table>\n",
       "</div>"
      ],
      "text/plain": [
       "          Total_bikes_per_day\n",
       "Day_type                     \n",
       "Week_day              3431441\n",
       "Week_end               930521"
      ]
     },
     "execution_count": 34,
     "metadata": {},
     "output_type": "execute_result"
    }
   ],
   "source": [
    "#Which days have the most bike traffic weekend or weekday\n",
    "bike.groupby('Day_type').agg({'Total_bikes_per_day':'sum'})"
   ]
  },
  {
   "cell_type": "code",
   "execution_count": 35,
   "id": "70a277e6-3633-426e-903a-0fadf71e317b",
   "metadata": {},
   "outputs": [
    {
     "data": {
      "image/png": "[encoded data removed]",
      "text/plain": [
       "<Figure size 640x480 with 1 Axes>"
      ]
     },
     "metadata": {},
     "output_type": "display_data"
    }
   ],
   "source": [
    "weekend_vs_weekday = bike.groupby('Day_type').agg({'Total_bikes_per_day':'sum'})\n",
    "plt.bar(weekend_vs_weekday.index,weekend_vs_weekday.Total_bikes_per_day,color=\"orange\")\n",
    "plt.xlabel(\"Day Type\")\n",
    "plt.ylabel(\"Total bikes\")\n",
    "plt.title(\"weekend_vs_weekday\")\n",
    "plt.grid(axis=\"y\")\n",
    "plt.show()"
   ]
  },
  {
   "cell_type": "code",
   "execution_count": null,
   "id": "b6cc93c0-8595-419c-a672-d657226e73cb",
   "metadata": {},
   "outputs": [],
   "source": []
  },
  {
   "cell_type": "code",
   "execution_count": null,
   "id": "9b783bdd-19e7-4d6d-8356-7a6d446b33e8",
   "metadata": {},
   "outputs": [],
   "source": []
  },
  {
   "cell_type": "raw",
   "id": "78cd777c-5bf4-46a1-ae43-195977714fdf",
   "metadata": {},
   "source": [
    "# B. Titanic-https://www.kaggle.com/c/titanic/data\n",
    "Database of whether somebody survived or not\n",
    "Can you infer who has survived ?\n",
    "\n",
    "1. Load the data\n",
    "2. Which gender survived more \n",
    "3. Does it depend on pclass?\n",
    "4. can we see % of survival of each gender and pclass \n",
    "What is your inference? "
   ]
  },
  {
   "cell_type": "raw",
   "id": "c663bf0f-b750-4b34-af00-abab1e845ca8",
   "metadata": {},
   "source": [
    "#Data\n",
    "col name    defination      key\n",
    "survived  - survival        - 0-No,1-Yes\n",
    "pclass    - Ticketclass     - 1 = 1st, 2 = 2nd, 3 = 3rd\n",
    "name      - Passengername   - (lastname,title first name)/ (lastname,title husbands name (first name))\n",
    "sex       - Sex             - male,female  \n",
    "age       - Age                \n",
    "sibsp     - of siblings / spouses aboard the Titanic\n",
    "parch     - of parents / children aboard the Titanic\n",
    "ticket    - Ticket number\n",
    "fare      - Passenger fare\n",
    "cabin     - Cabin number\n",
    "embarked  - Port of Embarkation  - C = Cherbourg, Q = Queenstown, S = Southampton"
   ]
  },
  {
   "cell_type": "code",
   "execution_count": 5,
   "id": "5a085458-0c07-499e-818a-49e0b841506a",
   "metadata": {},
   "outputs": [],
   "source": [
    "path = r'code\\data\\titanic_train.csv'"
   ]
  },
  {
   "cell_type": "code",
   "execution_count": 6,
   "id": "eb816117-8d01-48b9-9681-f19dbb5eaf1e",
   "metadata": {},
   "outputs": [],
   "source": [
    "titanic = pd.read_csv(path)"
   ]
  },
  {
   "cell_type": "code",
   "execution_count": 7,
   "id": "efbfed9c-eb18-4c5c-98b1-3d9055ae1b06",
   "metadata": {},
   "outputs": [
    {
     "data": {
      "text/html": [
       "<div>\n",
       "<style scoped>\n",
       "    .dataframe tbody tr th:only-of-type {\n",
       "        vertical-align: middle;\n",
       "    }\n",
       "\n",
       "    .dataframe tbody tr th {\n",
       "        vertical-align: top;\n",
       "    }\n",
       "\n",
       "    .dataframe thead th {\n",
       "        text-align: right;\n",
       "    }\n",
       "</style>\n",
       "<table border=\"1\" class=\"dataframe\">\n",
       "  <thead>\n",
       "    <tr style=\"text-align: right;\">\n",
       "      <th></th>\n",
       "      <th>survived</th>\n",
       "      <th>pclass</th>\n",
       "      <th>name</th>\n",
       "      <th>sex</th>\n",
       "      <th>age</th>\n",
       "      <th>sibsp</th>\n",
       "      <th>parch</th>\n",
       "      <th>ticket</th>\n",
       "      <th>fare</th>\n",
       "      <th>cabin</th>\n",
       "      <th>embarked</th>\n",
       "    </tr>\n",
       "  </thead>\n",
       "  <tbody>\n",
       "    <tr>\n",
       "      <th>0</th>\n",
       "      <td>0</td>\n",
       "      <td>3</td>\n",
       "      <td>Braund, Mr. Owen Harris</td>\n",
       "      <td>male</td>\n",
       "      <td>22.0</td>\n",
       "      <td>1</td>\n",
       "      <td>0</td>\n",
       "      <td>A/5 21171</td>\n",
       "      <td>7.2500</td>\n",
       "      <td>NaN</td>\n",
       "      <td>S</td>\n",
       "    </tr>\n",
       "    <tr>\n",
       "      <th>1</th>\n",
       "      <td>1</td>\n",
       "      <td>1</td>\n",
       "      <td>Cumings, Mrs. John Bradley (Florence Briggs Th...</td>\n",
       "      <td>female</td>\n",
       "      <td>38.0</td>\n",
       "      <td>1</td>\n",
       "      <td>0</td>\n",
       "      <td>PC 17599</td>\n",
       "      <td>71.2833</td>\n",
       "      <td>C85</td>\n",
       "      <td>C</td>\n",
       "    </tr>\n",
       "    <tr>\n",
       "      <th>2</th>\n",
       "      <td>1</td>\n",
       "      <td>3</td>\n",
       "      <td>Heikkinen, Miss. Laina</td>\n",
       "      <td>female</td>\n",
       "      <td>26.0</td>\n",
       "      <td>0</td>\n",
       "      <td>0</td>\n",
       "      <td>STON/O2. 3101282</td>\n",
       "      <td>7.9250</td>\n",
       "      <td>NaN</td>\n",
       "      <td>S</td>\n",
       "    </tr>\n",
       "    <tr>\n",
       "      <th>3</th>\n",
       "      <td>1</td>\n",
       "      <td>1</td>\n",
       "      <td>Futrelle, Mrs. Jacques Heath (Lily May Peel)</td>\n",
       "      <td>female</td>\n",
       "      <td>35.0</td>\n",
       "      <td>1</td>\n",
       "      <td>0</td>\n",
       "      <td>113803</td>\n",
       "      <td>53.1000</td>\n",
       "      <td>C123</td>\n",
       "      <td>S</td>\n",
       "    </tr>\n",
       "    <tr>\n",
       "      <th>4</th>\n",
       "      <td>0</td>\n",
       "      <td>3</td>\n",
       "      <td>Allen, Mr. William Henry</td>\n",
       "      <td>male</td>\n",
       "      <td>35.0</td>\n",
       "      <td>0</td>\n",
       "      <td>0</td>\n",
       "      <td>373450</td>\n",
       "      <td>8.0500</td>\n",
       "      <td>NaN</td>\n",
       "      <td>S</td>\n",
       "    </tr>\n",
       "  </tbody>\n",
       "</table>\n",
       "</div>"
      ],
      "text/plain": [
       "   survived  pclass                                               name  \\\n",
       "0         0       3                            Braund, Mr. Owen Harris   \n",
       "1         1       1  Cumings, Mrs. John Bradley (Florence Briggs Th...   \n",
       "2         1       3                             Heikkinen, Miss. Laina   \n",
       "3         1       1       Futrelle, Mrs. Jacques Heath (Lily May Peel)   \n",
       "4         0       3                           Allen, Mr. William Henry   \n",
       "\n",
       "      sex   age  sibsp  parch            ticket     fare cabin embarked  \n",
       "0    male  22.0      1      0         A/5 21171   7.2500   NaN        S  \n",
       "1  female  38.0      1      0          PC 17599  71.2833   C85        C  \n",
       "2  female  26.0      0      0  STON/O2. 3101282   7.9250   NaN        S  \n",
       "3  female  35.0      1      0            113803  53.1000  C123        S  \n",
       "4    male  35.0      0      0            373450   8.0500   NaN        S  "
      ]
     },
     "execution_count": 7,
     "metadata": {},
     "output_type": "execute_result"
    }
   ],
   "source": [
    "titanic.head()"
   ]
  },
  {
   "cell_type": "code",
   "execution_count": 8,
   "id": "b3d47866-0a59-4dae-b0d0-a7a1456acda4",
   "metadata": {},
   "outputs": [
    {
     "data": {
      "text/plain": [
       "(891, 11)"
      ]
     },
     "execution_count": 8,
     "metadata": {},
     "output_type": "execute_result"
    }
   ],
   "source": [
    "titanic.shape"
   ]
  },
  {
   "cell_type": "code",
   "execution_count": 9,
   "id": "dd580de1-6bec-495f-bb06-783743d8c06b",
   "metadata": {},
   "outputs": [
    {
     "data": {
      "text/plain": [
       "9801"
      ]
     },
     "execution_count": 9,
     "metadata": {},
     "output_type": "execute_result"
    }
   ],
   "source": [
    "titanic.size"
   ]
  },
  {
   "cell_type": "code",
   "execution_count": 10,
   "id": "31d8dbd2-44bf-4be5-80f1-f3196c126d74",
   "metadata": {},
   "outputs": [
    {
     "data": {
      "text/plain": [
       "Index(['survived', 'pclass', 'name', 'sex', 'age', 'sibsp', 'parch', 'ticket',\n",
       "       'fare', 'cabin', 'embarked'],\n",
       "      dtype='object')"
      ]
     },
     "execution_count": 10,
     "metadata": {},
     "output_type": "execute_result"
    }
   ],
   "source": [
    "titanic.columns"
   ]
  },
  {
   "cell_type": "code",
   "execution_count": 11,
   "id": "0f3d1e2b-3b7b-4e6e-85eb-9fc6ce82dca5",
   "metadata": {},
   "outputs": [
    {
     "data": {
      "text/plain": [
       "survived      2\n",
       "pclass        3\n",
       "name        891\n",
       "sex           2\n",
       "age          88\n",
       "sibsp         7\n",
       "parch         7\n",
       "ticket      681\n",
       "fare        248\n",
       "cabin       147\n",
       "embarked      3\n",
       "dtype: int64"
      ]
     },
     "execution_count": 11,
     "metadata": {},
     "output_type": "execute_result"
    }
   ],
   "source": [
    "titanic.nunique()"
   ]
  },
  {
   "cell_type": "code",
   "execution_count": 12,
   "id": "e7f899da-8ce3-4f5a-8ea4-be972bc8f741",
   "metadata": {},
   "outputs": [
    {
     "data": {
      "text/plain": [
       "sex\n",
       "male      577\n",
       "female    314\n",
       "Name: count, dtype: int64"
      ]
     },
     "execution_count": 12,
     "metadata": {},
     "output_type": "execute_result"
    }
   ],
   "source": [
    " titanic['sex'].value_counts()"
   ]
  },
  {
   "cell_type": "code",
   "execution_count": null,
   "id": "4814960a-0f09-459e-be8b-c20098228117",
   "metadata": {},
   "outputs": [],
   "source": [
    "# Which gender survived more\n",
    "gender_vs_survived = titanic.groupby('sex').agg({'sex': 'count', 'survived': 'sum'})\n",
    "gender_vs_survived"
   ]
  },
  {
   "cell_type": "code",
   "execution_count": 52,
   "id": "3d411b91-2a51-415f-bfab-b79f60461c9b",
   "metadata": {},
   "outputs": [
    {
     "data": {
      "image/png": "[encoded data removed]",
      "text/plain": [
       "<Figure size 400x400 with 1 Axes>"
      ]
     },
     "metadata": {},
     "output_type": "display_data"
    }
   ],
   "source": [
    "plt.figure(figsize=(4,4))\n",
    "plt.bar(gender_vs_survived.index,gender_vs_survived.survived,color=\"red\")\n",
    "plt.xlabel('Gender')\n",
    "plt.ylabel('Survival count')\n",
    "plt.grid(axis='y')\n",
    "plt.tight_layout()\n",
    "plt.show()"
   ]
  },
  {
   "cell_type": "code",
   "execution_count": 53,
   "id": "fa13b27b-792b-4f2e-af28-ced79cd5cc92",
   "metadata": {},
   "outputs": [
    {
     "data": {
      "text/plain": [
       "pclass\n",
       "3    491\n",
       "1    216\n",
       "2    184\n",
       "Name: count, dtype: int64"
      ]
     },
     "execution_count": 53,
     "metadata": {},
     "output_type": "execute_result"
    }
   ],
   "source": [
    "titanic['pclass'].value_counts()"
   ]
  },
  {
   "cell_type": "code",
   "execution_count": 54,
   "id": "7bf47cf6-88ef-4c4b-a47e-23ea937dd952",
   "metadata": {},
   "outputs": [
    {
     "data": {
      "text/html": [
       "<div>\n",
       "<style scoped>\n",
       "    .dataframe tbody tr th:only-of-type {\n",
       "        vertical-align: middle;\n",
       "    }\n",
       "\n",
       "    .dataframe tbody tr th {\n",
       "        vertical-align: top;\n",
       "    }\n",
       "\n",
       "    .dataframe thead th {\n",
       "        text-align: right;\n",
       "    }\n",
       "</style>\n",
       "<table border=\"1\" class=\"dataframe\">\n",
       "  <thead>\n",
       "    <tr style=\"text-align: right;\">\n",
       "      <th></th>\n",
       "      <th>survived</th>\n",
       "    </tr>\n",
       "    <tr>\n",
       "      <th>pclass</th>\n",
       "      <th></th>\n",
       "    </tr>\n",
       "  </thead>\n",
       "  <tbody>\n",
       "    <tr>\n",
       "      <th>1</th>\n",
       "      <td>136</td>\n",
       "    </tr>\n",
       "    <tr>\n",
       "      <th>2</th>\n",
       "      <td>87</td>\n",
       "    </tr>\n",
       "    <tr>\n",
       "      <th>3</th>\n",
       "      <td>119</td>\n",
       "    </tr>\n",
       "  </tbody>\n",
       "</table>\n",
       "</div>"
      ],
      "text/plain": [
       "        survived\n",
       "pclass          \n",
       "1            136\n",
       "2             87\n",
       "3            119"
      ]
     },
     "execution_count": 54,
     "metadata": {},
     "output_type": "execute_result"
    }
   ],
   "source": [
    "#Does it depend on pclass?\n",
    "pclass_vs_survial = titanic.groupby('pclass').agg({'survived':'sum'})\n",
    "pclass_vs_survial"
   ]
  },
  {
   "cell_type": "code",
   "execution_count": 55,
   "id": "d290c706-fbdc-43dc-8dd0-e2bca2812251",
   "metadata": {},
   "outputs": [
    {
     "data": {
      "image/png": "[encoded data removed]",
      "text/plain": [
       "<Figure size 600x600 with 1 Axes>"
      ]
     },
     "metadata": {},
     "output_type": "display_data"
    }
   ],
   "source": [
    "plt.figure(figsize=(6,6))\n",
    "plt.bar(pclass_vs_survial.index,pclass_vs_survial.survived,color=\"orange\")\n",
    "plt.xticks([1, 2, 3])\n",
    "plt.xlabel('Passenger Class')\n",
    "plt.ylabel('Survived Count')\n",
    "plt.title('Survival Count by Passenger Class')\n",
    "plt.show()"
   ]
  },
  {
   "cell_type": "code",
   "execution_count": null,
   "id": "e88beec1-1340-4bee-ba67-3bda10f0b53c",
   "metadata": {},
   "outputs": [],
   "source": []
  },
  {
   "cell_type": "code",
   "execution_count": 40,
   "id": "5751e462-952d-4c7a-b53a-e2bea05e382c",
   "metadata": {},
   "outputs": [
    {
     "data": {
      "text/html": [
       "<div>\n",
       "<style scoped>\n",
       "    .dataframe tbody tr th:only-of-type {\n",
       "        vertical-align: middle;\n",
       "    }\n",
       "\n",
       "    .dataframe tbody tr th {\n",
       "        vertical-align: top;\n",
       "    }\n",
       "\n",
       "    .dataframe thead th {\n",
       "        text-align: right;\n",
       "    }\n",
       "</style>\n",
       "<table border=\"1\" class=\"dataframe\">\n",
       "  <thead>\n",
       "    <tr style=\"text-align: right;\">\n",
       "      <th></th>\n",
       "      <th>total</th>\n",
       "      <th>survived</th>\n",
       "      <th>%survival</th>\n",
       "    </tr>\n",
       "    <tr>\n",
       "      <th>sex</th>\n",
       "      <th></th>\n",
       "      <th></th>\n",
       "      <th></th>\n",
       "    </tr>\n",
       "  </thead>\n",
       "  <tbody>\n",
       "    <tr>\n",
       "      <th>female</th>\n",
       "      <td>314</td>\n",
       "      <td>233</td>\n",
       "      <td>0.742</td>\n",
       "    </tr>\n",
       "    <tr>\n",
       "      <th>male</th>\n",
       "      <td>577</td>\n",
       "      <td>109</td>\n",
       "      <td>0.189</td>\n",
       "    </tr>\n",
       "  </tbody>\n",
       "</table>\n",
       "</div>"
      ],
      "text/plain": [
       "        total  survived  %survival\n",
       "sex                               \n",
       "female    314       233      0.742\n",
       "male      577       109      0.189"
      ]
     },
     "execution_count": 40,
     "metadata": {},
     "output_type": "execute_result"
    }
   ],
   "source": [
    "#2. % of survival of each gender\n",
    "gender_vs_survived = titanic.groupby('sex').agg({'sex': 'count', 'survived': 'sum'})\n",
    "gender_vs_survived.rename(columns={'sex': 'total', 'survived': 'survived'}, inplace=True)\n",
    "gender_vs_survived['%survival'] = round(gender_vs_survived['survived']/gender_vs_survived['total'],3)\n",
    "gender_vs_survived"
   ]
  },
  {
   "cell_type": "code",
   "execution_count": 38,
   "id": "32f71706-a744-473b-8dae-9d0ed44e4e1d",
   "metadata": {},
   "outputs": [
    {
     "data": {
      "text/html": [
       "<div>\n",
       "<style scoped>\n",
       "    .dataframe tbody tr th:only-of-type {\n",
       "        vertical-align: middle;\n",
       "    }\n",
       "\n",
       "    .dataframe tbody tr th {\n",
       "        vertical-align: top;\n",
       "    }\n",
       "\n",
       "    .dataframe thead th {\n",
       "        text-align: right;\n",
       "    }\n",
       "</style>\n",
       "<table border=\"1\" class=\"dataframe\">\n",
       "  <thead>\n",
       "    <tr style=\"text-align: right;\">\n",
       "      <th></th>\n",
       "      <th>total</th>\n",
       "      <th>survived</th>\n",
       "      <th>%surival</th>\n",
       "    </tr>\n",
       "    <tr>\n",
       "      <th>pclass</th>\n",
       "      <th></th>\n",
       "      <th></th>\n",
       "      <th></th>\n",
       "    </tr>\n",
       "  </thead>\n",
       "  <tbody>\n",
       "    <tr>\n",
       "      <th>1</th>\n",
       "      <td>216</td>\n",
       "      <td>136</td>\n",
       "      <td>0.630</td>\n",
       "    </tr>\n",
       "    <tr>\n",
       "      <th>2</th>\n",
       "      <td>368</td>\n",
       "      <td>87</td>\n",
       "      <td>0.236</td>\n",
       "    </tr>\n",
       "    <tr>\n",
       "      <th>3</th>\n",
       "      <td>1473</td>\n",
       "      <td>119</td>\n",
       "      <td>0.081</td>\n",
       "    </tr>\n",
       "  </tbody>\n",
       "</table>\n",
       "</div>"
      ],
      "text/plain": [
       "        total  survived  %surival\n",
       "pclass                           \n",
       "1         216       136     0.630\n",
       "2         368        87     0.236\n",
       "3        1473       119     0.081"
      ]
     },
     "execution_count": 38,
     "metadata": {},
     "output_type": "execute_result"
    }
   ],
   "source": [
    "#% of survival of each pclass \n",
    "pclass_vs_survived = titanic.groupby(['pclass']).agg({'pclass':'sum','survived':'sum'})\n",
    "pclass_vs_survived.columns = ['total','survived']\n",
    "pclass_vs_survived['%surival'] = round(pclass_vs_survived['survived']/pclass_vs_survived['total'],3)\n",
    "pclass_vs_survived"
   ]
  },
  {
   "cell_type": "code",
   "execution_count": 20,
   "id": "acd1d9a6-c542-4bb3-8247-a4ea1ce8ce42",
   "metadata": {},
   "outputs": [
    {
     "data": {
      "image/png": "[encoded data removed]",
      "text/plain": [
       "<Figure size 640x480 with 1 Axes>"
      ]
     },
     "metadata": {},
     "output_type": "display_data"
    }
   ],
   "source": [
    "# gender_vs_survived - plot\n",
    "labels = gender_vs_survived.index\n",
    "total = gender_vs_survived['total']\n",
    "survived = gender_vs_survived['survived']\n",
    "\n",
    "x = np.arange(len(labels))  \n",
    "width = 0.35  \n",
    "\n",
    "fig, ax = plt.subplots()\n",
    "bars1 = ax.bar(x - width/2, total, width, label='Total', color='red')\n",
    "bars2 = ax.bar(x + width/2, survived, width, label='Survived', color='black')\n",
    "\n",
    "ax.set_xlabel('Gender')\n",
    "ax.set_ylabel('Count')\n",
    "ax.set_title('Total and Survived Passengers by Gender')\n",
    "ax.set_xticks(x)\n",
    "ax.set_xticklabels(labels)\n",
    "ax.legend()\n",
    "\n",
    "plt.tight_layout()\n",
    "plt.show()\n"
   ]
  },
  {
   "cell_type": "code",
   "execution_count": 36,
   "id": "83fe87b5-a8ba-4df3-9bc8-18059edbf348",
   "metadata": {},
   "outputs": [
    {
     "data": {
      "image/png": "[encoded data removed]",
      "text/plain": [
       "<Figure size 640x480 with 1 Axes>"
      ]
     },
     "metadata": {},
     "output_type": "display_data"
    }
   ],
   "source": [
    "# pclass_vs_survived - plot\n",
    "labels = pclass_vs_survived.index\n",
    "total = pclass_vs_survived.total\n",
    "survived = pclass_vs_survived.survived\n",
    "\n",
    "fig,ax = plt.subplots()\n",
    "width = 0.35\n",
    "\n",
    "x = np.arange(len(labels)) #[0,1,2]\n",
    "bar1 = ax.bar(x-width/2,total,width,label = 'total',color='black')\n",
    "bar2 = ax.bar(x+width/2,survived,width,label='survived',color='red')\n",
    "ax.set_xlabel('Pclass')\n",
    "ax.set_ylabel('Count')\n",
    "ax.set_title('Total and Survived Passengers by Pclass')\n",
    "ax.set_xticks(x)\n",
    "ax.legend()\n",
    "\n",
    "plt.tight_layout()\n",
    "plt.show()"
   ]
  },
  {
   "cell_type": "code",
   "execution_count": 57,
   "id": "d3b4cae3-3f6d-4824-8868-a0fd06a76474",
   "metadata": {},
   "outputs": [
    {
     "data": {
      "text/html": [
       "<div>\n",
       "<style scoped>\n",
       "    .dataframe tbody tr th:only-of-type {\n",
       "        vertical-align: middle;\n",
       "    }\n",
       "\n",
       "    .dataframe tbody tr th {\n",
       "        vertical-align: top;\n",
       "    }\n",
       "\n",
       "    .dataframe thead th {\n",
       "        text-align: right;\n",
       "    }\n",
       "</style>\n",
       "<table border=\"1\" class=\"dataframe\">\n",
       "  <thead>\n",
       "    <tr style=\"text-align: right;\">\n",
       "      <th></th>\n",
       "      <th></th>\n",
       "      <th>survived</th>\n",
       "    </tr>\n",
       "    <tr>\n",
       "      <th>pclass</th>\n",
       "      <th>sex</th>\n",
       "      <th></th>\n",
       "    </tr>\n",
       "  </thead>\n",
       "  <tbody>\n",
       "    <tr>\n",
       "      <th rowspan=\"2\" valign=\"top\">1</th>\n",
       "      <th>female</th>\n",
       "      <td>91</td>\n",
       "    </tr>\n",
       "    <tr>\n",
       "      <th>male</th>\n",
       "      <td>45</td>\n",
       "    </tr>\n",
       "    <tr>\n",
       "      <th rowspan=\"2\" valign=\"top\">2</th>\n",
       "      <th>female</th>\n",
       "      <td>70</td>\n",
       "    </tr>\n",
       "    <tr>\n",
       "      <th>male</th>\n",
       "      <td>17</td>\n",
       "    </tr>\n",
       "    <tr>\n",
       "      <th rowspan=\"2\" valign=\"top\">3</th>\n",
       "      <th>female</th>\n",
       "      <td>72</td>\n",
       "    </tr>\n",
       "    <tr>\n",
       "      <th>male</th>\n",
       "      <td>47</td>\n",
       "    </tr>\n",
       "  </tbody>\n",
       "</table>\n",
       "</div>"
      ],
      "text/plain": [
       "               survived\n",
       "pclass sex             \n",
       "1      female        91\n",
       "       male          45\n",
       "2      female        70\n",
       "       male          17\n",
       "3      female        72\n",
       "       male          47"
      ]
     },
     "execution_count": 57,
     "metadata": {},
     "output_type": "execute_result"
    }
   ],
   "source": [
    "#pclass vs gender \n",
    "survivors=titanic.groupby(['pclass','sex']).agg({'survived':'sum'})\n",
    "survivors"
   ]
  },
  {
   "cell_type": "code",
   "execution_count": 60,
   "id": "308de630-c203-48f1-b3a6-85d349a68e26",
   "metadata": {},
   "outputs": [
    {
     "data": {
      "text/html": [
       "<div>\n",
       "<style scoped>\n",
       "    .dataframe tbody tr th:only-of-type {\n",
       "        vertical-align: middle;\n",
       "    }\n",
       "\n",
       "    .dataframe tbody tr th {\n",
       "        vertical-align: top;\n",
       "    }\n",
       "\n",
       "    .dataframe thead th {\n",
       "        text-align: right;\n",
       "    }\n",
       "</style>\n",
       "<table border=\"1\" class=\"dataframe\">\n",
       "  <thead>\n",
       "    <tr style=\"text-align: right;\">\n",
       "      <th></th>\n",
       "      <th></th>\n",
       "      <th></th>\n",
       "      <th>total</th>\n",
       "    </tr>\n",
       "    <tr>\n",
       "      <th>pclass</th>\n",
       "      <th>sex</th>\n",
       "      <th>survived</th>\n",
       "      <th></th>\n",
       "    </tr>\n",
       "  </thead>\n",
       "  <tbody>\n",
       "    <tr>\n",
       "      <th rowspan=\"4\" valign=\"top\">1</th>\n",
       "      <th rowspan=\"2\" valign=\"top\">female</th>\n",
       "      <th>0</th>\n",
       "      <td>3</td>\n",
       "    </tr>\n",
       "    <tr>\n",
       "      <th>1</th>\n",
       "      <td>91</td>\n",
       "    </tr>\n",
       "    <tr>\n",
       "      <th rowspan=\"2\" valign=\"top\">male</th>\n",
       "      <th>0</th>\n",
       "      <td>77</td>\n",
       "    </tr>\n",
       "    <tr>\n",
       "      <th>1</th>\n",
       "      <td>45</td>\n",
       "    </tr>\n",
       "    <tr>\n",
       "      <th rowspan=\"4\" valign=\"top\">2</th>\n",
       "      <th rowspan=\"2\" valign=\"top\">female</th>\n",
       "      <th>0</th>\n",
       "      <td>6</td>\n",
       "    </tr>\n",
       "    <tr>\n",
       "      <th>1</th>\n",
       "      <td>70</td>\n",
       "    </tr>\n",
       "    <tr>\n",
       "      <th rowspan=\"2\" valign=\"top\">male</th>\n",
       "      <th>0</th>\n",
       "      <td>91</td>\n",
       "    </tr>\n",
       "    <tr>\n",
       "      <th>1</th>\n",
       "      <td>17</td>\n",
       "    </tr>\n",
       "    <tr>\n",
       "      <th rowspan=\"4\" valign=\"top\">3</th>\n",
       "      <th rowspan=\"2\" valign=\"top\">female</th>\n",
       "      <th>0</th>\n",
       "      <td>72</td>\n",
       "    </tr>\n",
       "    <tr>\n",
       "      <th>1</th>\n",
       "      <td>72</td>\n",
       "    </tr>\n",
       "    <tr>\n",
       "      <th rowspan=\"2\" valign=\"top\">male</th>\n",
       "      <th>0</th>\n",
       "      <td>300</td>\n",
       "    </tr>\n",
       "    <tr>\n",
       "      <th>1</th>\n",
       "      <td>47</td>\n",
       "    </tr>\n",
       "  </tbody>\n",
       "</table>\n",
       "</div>"
      ],
      "text/plain": [
       "                        total\n",
       "pclass sex    survived       \n",
       "1      female 0             3\n",
       "              1            91\n",
       "       male   0            77\n",
       "              1            45\n",
       "2      female 0             6\n",
       "              1            70\n",
       "       male   0            91\n",
       "              1            17\n",
       "3      female 0            72\n",
       "              1            72\n",
       "       male   0           300\n",
       "              1            47"
      ]
     },
     "execution_count": 60,
     "metadata": {},
     "output_type": "execute_result"
    }
   ],
   "source": [
    "pclass_gender_vs_survived = titanic.groupby(['pclass','sex','survived']).agg({'survived':'count'})\n",
    "#pclass_gender_vs_survived.columns = ['total','survived']\n",
    "#pclass_gender_vs_survived['%surival'] = round(pclass_vs_survived['survived']/pclass_vs_survived['total'],3)\n",
    "pclass_gender_vs_survived.columns=['total']\n",
    "pclass_gender_vs_survived"
   ]
  },
  {
   "cell_type": "code",
   "execution_count": null,
   "id": "ba4d3964-8ab5-4546-9302-ccdca2c99332",
   "metadata": {},
   "outputs": [],
   "source": []
  },
  {
   "cell_type": "code",
   "execution_count": null,
   "id": "1713d589-8e20-4719-8355-9ded7c4eb4ed",
   "metadata": {},
   "outputs": [],
   "source": []
  },
  {
   "cell_type": "code",
   "execution_count": null,
   "id": "fdc266dd-498c-4fcf-a45e-4ae1a49c6aed",
   "metadata": {},
   "outputs": [],
   "source": []
  },
  {
   "cell_type": "code",
   "execution_count": 96,
   "id": "f2a373b7-61f6-4ce0-9c88-ef6e8bafa732",
   "metadata": {},
   "outputs": [
    {
     "data": {
      "text/plain": [
       "survived      0\n",
       "pclass        0\n",
       "name          0\n",
       "sex           0\n",
       "age         177\n",
       "sibsp         0\n",
       "parch         0\n",
       "ticket        0\n",
       "fare          0\n",
       "cabin       687\n",
       "embarked      2\n",
       "dtype: int64"
      ]
     },
     "execution_count": 96,
     "metadata": {},
     "output_type": "execute_result"
    }
   ],
   "source": [
    "titanic.isnull().sum()"
   ]
  },
  {
   "cell_type": "code",
   "execution_count": 97,
   "id": "cd03d629-d1c5-4034-aa83-d9b9f3776c4d",
   "metadata": {},
   "outputs": [
    {
     "data": {
      "text/plain": [
       "array([nan, 'C85', 'C123', 'E46', 'G6', 'C103', 'D56', 'A6',\n",
       "       'C23 C25 C27', 'B78', 'D33', 'B30', 'C52', 'B28', 'C83', 'F33',\n",
       "       'F G73', 'E31', 'A5', 'D10 D12', 'D26', 'C110', 'B58 B60', 'E101',\n",
       "       'F E69', 'D47', 'B86', 'F2', 'C2', 'E33', 'B19', 'A7', 'C49', 'F4',\n",
       "       'A32', 'B4', 'B80', 'A31', 'D36', 'D15', 'C93', 'C78', 'D35',\n",
       "       'C87', 'B77', 'E67', 'B94', 'C125', 'C99', 'C118', 'D7', 'A19',\n",
       "       'B49', 'D', 'C22 C26', 'C106', 'C65', 'E36', 'C54',\n",
       "       'B57 B59 B63 B66', 'C7', 'E34', 'C32', 'B18', 'C124', 'C91', 'E40',\n",
       "       'T', 'C128', 'D37', 'B35', 'E50', 'C82', 'B96 B98', 'E10', 'E44',\n",
       "       'A34', 'C104', 'C111', 'C92', 'E38', 'D21', 'E12', 'E63', 'A14',\n",
       "       'B37', 'C30', 'D20', 'B79', 'E25', 'D46', 'B73', 'C95', 'B38',\n",
       "       'B39', 'B22', 'C86', 'C70', 'A16', 'C101', 'C68', 'A10', 'E68',\n",
       "       'B41', 'A20', 'D19', 'D50', 'D9', 'A23', 'B50', 'A26', 'D48',\n",
       "       'E58', 'C126', 'B71', 'B51 B53 B55', 'D49', 'B5', 'B20', 'F G63',\n",
       "       'C62 C64', 'E24', 'C90', 'C45', 'E8', 'B101', 'D45', 'C46', 'D30',\n",
       "       'E121', 'D11', 'E77', 'F38', 'B3', 'D6', 'B82 B84', 'D17', 'A36',\n",
       "       'B102', 'B69', 'E49', 'C47', 'D28', 'E17', 'A24', 'C50', 'B42',\n",
       "       'C148'], dtype=object)"
      ]
     },
     "execution_count": 97,
     "metadata": {},
     "output_type": "execute_result"
    }
   ],
   "source": [
    "titanic.cabin.unique()"
   ]
  },
  {
   "cell_type": "code",
   "execution_count": 98,
   "id": "4a900151-4892-4701-9f92-4ccf91a71176",
   "metadata": {},
   "outputs": [
    {
     "data": {
      "text/plain": [
       "array(['S', 'C', 'Q', nan], dtype=object)"
      ]
     },
     "execution_count": 98,
     "metadata": {},
     "output_type": "execute_result"
    }
   ],
   "source": [
    "titanic.embarked.unique()"
   ]
  },
  {
   "cell_type": "code",
   "execution_count": 115,
   "id": "664b1bad-82e5-4a9b-9755-08f6eb0d87c0",
   "metadata": {},
   "outputs": [
    {
     "data": {
      "text/plain": [
       "embarked\n",
       "S    646\n",
       "C    168\n",
       "Q     77\n",
       "Name: count, dtype: int64"
      ]
     },
     "execution_count": 115,
     "metadata": {},
     "output_type": "execute_result"
    }
   ],
   "source": [
    "titanic['embarked'].value_counts()"
   ]
  },
  {
   "cell_type": "code",
   "execution_count": 111,
   "id": "6f5bcca8-8139-4123-a311-d1453570bfc6",
   "metadata": {},
   "outputs": [
    {
     "data": {
      "text/plain": [
       "0    S\n",
       "Name: embarked, dtype: object"
      ]
     },
     "execution_count": 111,
     "metadata": {},
     "output_type": "execute_result"
    }
   ],
   "source": [
    "titanic['embarked'].mode()"
   ]
  },
  {
   "cell_type": "code",
   "execution_count": 114,
   "id": "255523f2-c3db-4c49-b0ec-31a213bad40e",
   "metadata": {},
   "outputs": [
    {
     "data": {
      "text/plain": [
       "0"
      ]
     },
     "execution_count": 114,
     "metadata": {},
     "output_type": "execute_result"
    }
   ],
   "source": [
    "titanic['embarked'].fillna(titanic['embarked'].mode()[0],inplace = True)\n",
    "titanic['embarked'].isnull().sum()"
   ]
  },
  {
   "cell_type": "code",
   "execution_count": 59,
   "id": "652cf782-0c42-4f1a-8a6f-65be0daf551e",
   "metadata": {},
   "outputs": [
    {
     "data": {
      "text/plain": [
       "cabin\n",
       "B96 B98        4\n",
       "G6             4\n",
       "C23 C25 C27    4\n",
       "C22 C26        3\n",
       "F33            3\n",
       "              ..\n",
       "E34            1\n",
       "C7             1\n",
       "C54            1\n",
       "E36            1\n",
       "C148           1\n",
       "Name: count, Length: 147, dtype: int64"
      ]
     },
     "execution_count": 59,
     "metadata": {},
     "output_type": "execute_result"
    }
   ],
   "source": [
    "titanic['cabin'].value_counts()"
   ]
  },
  {
   "cell_type": "code",
   "execution_count": 58,
   "id": "8d117584-4166-4065-a80d-1f8f67e4b8d4",
   "metadata": {},
   "outputs": [
    {
     "data": {
      "text/plain": [
       "0        B96 B98\n",
       "1    C23 C25 C27\n",
       "2             G6\n",
       "Name: cabin, dtype: object"
      ]
     },
     "execution_count": 58,
     "metadata": {},
     "output_type": "execute_result"
    }
   ],
   "source": [
    "titanic['cabin'].mode()"
   ]
  },
  {
   "cell_type": "code",
   "execution_count": null,
   "id": "65bb5292-8995-45ad-b4c6-5a1e5807f94e",
   "metadata": {},
   "outputs": [],
   "source": []
  },
  {
   "cell_type": "code",
   "execution_count": null,
   "id": "3cee1106-d782-4839-a7a8-584a575096a6",
   "metadata": {},
   "outputs": [],
   "source": []
  },
  {
   "cell_type": "code",
   "execution_count": null,
   "id": "23223be9-f4e1-4ee1-8683-c945669844b5",
   "metadata": {},
   "outputs": [],
   "source": []
  },
  {
   "cell_type": "code",
   "execution_count": null,
   "id": "c9e3a8c7-6694-4860-8d02-390bb7b1fd47",
   "metadata": {},
   "outputs": [],
   "source": []
  },
  {
   "cell_type": "code",
   "execution_count": null,
   "id": "e4c23e94-7f5b-4bb9-81e4-87bbd4e04336",
   "metadata": {},
   "outputs": [],
   "source": []
  },
  {
   "cell_type": "raw",
   "id": "1fe98349-1ad9-4588-95fe-42f660220990",
   "metadata": {},
   "source": [
    "# C. Roger Federer database \n",
    "\n",
    "Each row corresponds to a ATP match played by Roger Federer\n",
    "\n",
    "Can you infer anything on Roger Federer performance?\n",
    "\n",
    "player = 'Roger Federer'\n",
    "url = \"https://raw.githubusercontent.com/ndas1971/Misc/master/federer.csv\"\n",
    "\n",
    "1. Read and check data \n",
    "2. How many % of matched won by our player? ('winner')\n",
    "3. Proportion of double faults wrt total points in each match \n",
    "This number is an indicator of the player's state of mind, his level of self-confidence, \n",
    "his willingness to take risks while serving, and other parameters.\n",
    "columns:\n",
    "'player1 double faults' and 'player1 total points total'\n",
    "Display simple stats of above \n",
    "4. Average Win per surface \n",
    "5. Display the proportion of double faults as a function of the tournament date, 'start date'\n",
    "Trend: display average double faults in each year "
   ]
  },
  {
   "cell_type": "code",
   "execution_count": 9,
   "id": "3aa60147-6b87-4bf3-93c3-69b115a4eda2",
   "metadata": {},
   "outputs": [],
   "source": [
    "path=r'code\\data\\federer.csv'"
   ]
  },
  {
   "cell_type": "code",
   "execution_count": 10,
   "id": "b472e8a2-5d33-4240-88fd-be4b03d47d6d",
   "metadata": {},
   "outputs": [],
   "source": [
    "federer = pd.read_csv(path)"
   ]
  },
  {
   "cell_type": "code",
   "execution_count": 11,
   "id": "91d33623-3a15-42a2-9388-75a573f1bea6",
   "metadata": {},
   "outputs": [
    {
     "data": {
      "text/html": [
       "<div>\n",
       "<style scoped>\n",
       "    .dataframe tbody tr th:only-of-type {\n",
       "        vertical-align: middle;\n",
       "    }\n",
       "\n",
       "    .dataframe tbody tr th {\n",
       "        vertical-align: top;\n",
       "    }\n",
       "\n",
       "    .dataframe thead th {\n",
       "        text-align: right;\n",
       "    }\n",
       "</style>\n",
       "<table border=\"1\" class=\"dataframe\">\n",
       "  <thead>\n",
       "    <tr style=\"text-align: right;\">\n",
       "      <th></th>\n",
       "      <th>year</th>\n",
       "      <th>tournament</th>\n",
       "      <th>start date</th>\n",
       "      <th>type</th>\n",
       "      <th>surface</th>\n",
       "      <th>draw</th>\n",
       "      <th>atp points</th>\n",
       "      <th>atp ranking</th>\n",
       "      <th>tournament prize money</th>\n",
       "      <th>round</th>\n",
       "      <th>...</th>\n",
       "      <th>player2 2nd serve return points total</th>\n",
       "      <th>player2 break points converted won</th>\n",
       "      <th>player2 break points converted total</th>\n",
       "      <th>player2 return games played</th>\n",
       "      <th>player2 total service points won</th>\n",
       "      <th>player2 total service points total</th>\n",
       "      <th>player2 total return points won</th>\n",
       "      <th>player2 total return points total</th>\n",
       "      <th>player2 total points won</th>\n",
       "      <th>player2 total points total</th>\n",
       "    </tr>\n",
       "  </thead>\n",
       "  <tbody>\n",
       "    <tr>\n",
       "      <th>0</th>\n",
       "      <td>1998</td>\n",
       "      <td>Basel, Switzerland</td>\n",
       "      <td>05.10.1998</td>\n",
       "      <td>WS</td>\n",
       "      <td>Indoor: Hard</td>\n",
       "      <td>Draw: 32</td>\n",
       "      <td>1</td>\n",
       "      <td>396.0</td>\n",
       "      <td>$9,800</td>\n",
       "      <td>R32</td>\n",
       "      <td>...</td>\n",
       "      <td>22.0</td>\n",
       "      <td>4.0</td>\n",
       "      <td>8.0</td>\n",
       "      <td>8.0</td>\n",
       "      <td>36.0</td>\n",
       "      <td>50.0</td>\n",
       "      <td>26.0</td>\n",
       "      <td>53.0</td>\n",
       "      <td>62.0</td>\n",
       "      <td>103.0</td>\n",
       "    </tr>\n",
       "    <tr>\n",
       "      <th>1</th>\n",
       "      <td>1998</td>\n",
       "      <td>Toulouse, France</td>\n",
       "      <td>28.09.1998</td>\n",
       "      <td>WS</td>\n",
       "      <td>Indoor: Hard</td>\n",
       "      <td>Draw: 32</td>\n",
       "      <td>59</td>\n",
       "      <td>878.0</td>\n",
       "      <td>$10,800</td>\n",
       "      <td>R32</td>\n",
       "      <td>...</td>\n",
       "      <td>19.0</td>\n",
       "      <td>0.0</td>\n",
       "      <td>1.0</td>\n",
       "      <td>8.0</td>\n",
       "      <td>33.0</td>\n",
       "      <td>65.0</td>\n",
       "      <td>8.0</td>\n",
       "      <td>41.0</td>\n",
       "      <td>41.0</td>\n",
       "      <td>106.0</td>\n",
       "    </tr>\n",
       "    <tr>\n",
       "      <th>2</th>\n",
       "      <td>1998</td>\n",
       "      <td>Toulouse, France</td>\n",
       "      <td>28.09.1998</td>\n",
       "      <td>WS</td>\n",
       "      <td>Indoor: Hard</td>\n",
       "      <td>Draw: 32</td>\n",
       "      <td>59</td>\n",
       "      <td>878.0</td>\n",
       "      <td>$10,800</td>\n",
       "      <td>R16</td>\n",
       "      <td>...</td>\n",
       "      <td>30.0</td>\n",
       "      <td>0.0</td>\n",
       "      <td>4.0</td>\n",
       "      <td>10.0</td>\n",
       "      <td>46.0</td>\n",
       "      <td>75.0</td>\n",
       "      <td>23.0</td>\n",
       "      <td>73.0</td>\n",
       "      <td>69.0</td>\n",
       "      <td>148.0</td>\n",
       "    </tr>\n",
       "    <tr>\n",
       "      <th>3</th>\n",
       "      <td>1998</td>\n",
       "      <td>Toulouse, France</td>\n",
       "      <td>28.09.1998</td>\n",
       "      <td>WS</td>\n",
       "      <td>Indoor: Hard</td>\n",
       "      <td>Draw: 32</td>\n",
       "      <td>59</td>\n",
       "      <td>878.0</td>\n",
       "      <td>$10,800</td>\n",
       "      <td>Q</td>\n",
       "      <td>...</td>\n",
       "      <td>28.0</td>\n",
       "      <td>3.0</td>\n",
       "      <td>10.0</td>\n",
       "      <td>10.0</td>\n",
       "      <td>44.0</td>\n",
       "      <td>63.0</td>\n",
       "      <td>26.0</td>\n",
       "      <td>67.0</td>\n",
       "      <td>70.0</td>\n",
       "      <td>130.0</td>\n",
       "    </tr>\n",
       "    <tr>\n",
       "      <th>4</th>\n",
       "      <td>1998</td>\n",
       "      <td>Geneva, Switzerland</td>\n",
       "      <td>24.08.1998</td>\n",
       "      <td>CH</td>\n",
       "      <td>Outdoor: Clay</td>\n",
       "      <td>Draw: 32</td>\n",
       "      <td>1</td>\n",
       "      <td>680.0</td>\n",
       "      <td>$520</td>\n",
       "      <td>R32</td>\n",
       "      <td>...</td>\n",
       "      <td>NaN</td>\n",
       "      <td>NaN</td>\n",
       "      <td>NaN</td>\n",
       "      <td>NaN</td>\n",
       "      <td>NaN</td>\n",
       "      <td>NaN</td>\n",
       "      <td>NaN</td>\n",
       "      <td>NaN</td>\n",
       "      <td>NaN</td>\n",
       "      <td>NaN</td>\n",
       "    </tr>\n",
       "  </tbody>\n",
       "</table>\n",
       "<p>5 rows × 70 columns</p>\n",
       "</div>"
      ],
      "text/plain": [
       "   year           tournament  start date type        surface      draw  \\\n",
       "0  1998   Basel, Switzerland  05.10.1998   WS   Indoor: Hard  Draw: 32   \n",
       "1  1998     Toulouse, France  28.09.1998   WS   Indoor: Hard  Draw: 32   \n",
       "2  1998     Toulouse, France  28.09.1998   WS   Indoor: Hard  Draw: 32   \n",
       "3  1998     Toulouse, France  28.09.1998   WS   Indoor: Hard  Draw: 32   \n",
       "4  1998  Geneva, Switzerland  24.08.1998   CH  Outdoor: Clay  Draw: 32   \n",
       "\n",
       "  atp points  atp ranking tournament prize money round  ...  \\\n",
       "0          1        396.0                 $9,800   R32  ...   \n",
       "1         59        878.0                $10,800   R32  ...   \n",
       "2         59        878.0                $10,800   R16  ...   \n",
       "3         59        878.0                $10,800     Q  ...   \n",
       "4          1        680.0                   $520   R32  ...   \n",
       "\n",
       "  player2 2nd serve return points total player2 break points converted won  \\\n",
       "0                                  22.0                                4.0   \n",
       "1                                  19.0                                0.0   \n",
       "2                                  30.0                                0.0   \n",
       "3                                  28.0                                3.0   \n",
       "4                                   NaN                                NaN   \n",
       "\n",
       "  player2 break points converted total player2 return games played  \\\n",
       "0                                  8.0                         8.0   \n",
       "1                                  1.0                         8.0   \n",
       "2                                  4.0                        10.0   \n",
       "3                                 10.0                        10.0   \n",
       "4                                  NaN                         NaN   \n",
       "\n",
       "  player2 total service points won player2 total service points total  \\\n",
       "0                             36.0                               50.0   \n",
       "1                             33.0                               65.0   \n",
       "2                             46.0                               75.0   \n",
       "3                             44.0                               63.0   \n",
       "4                              NaN                                NaN   \n",
       "\n",
       "   player2 total return points won player2 total return points total  \\\n",
       "0                             26.0                              53.0   \n",
       "1                              8.0                              41.0   \n",
       "2                             23.0                              73.0   \n",
       "3                             26.0                              67.0   \n",
       "4                              NaN                               NaN   \n",
       "\n",
       "  player2 total points won player2 total points total  \n",
       "0                     62.0                      103.0  \n",
       "1                     41.0                      106.0  \n",
       "2                     69.0                      148.0  \n",
       "3                     70.0                      130.0  \n",
       "4                      NaN                        NaN  \n",
       "\n",
       "[5 rows x 70 columns]"
      ]
     },
     "execution_count": 11,
     "metadata": {},
     "output_type": "execute_result"
    }
   ],
   "source": [
    "federer.head()"
   ]
  },
  {
   "cell_type": "code",
   "execution_count": 12,
   "id": "133e191c-e25b-4e3d-a1a1-78881cf3aabd",
   "metadata": {},
   "outputs": [
    {
     "data": {
      "text/plain": [
       "(1179, 70)"
      ]
     },
     "execution_count": 12,
     "metadata": {},
     "output_type": "execute_result"
    }
   ],
   "source": [
    "federer.shape"
   ]
  },
  {
   "cell_type": "code",
   "execution_count": 13,
   "id": "08313a3e-e13a-4324-817e-4372ef312b65",
   "metadata": {},
   "outputs": [
    {
     "data": {
      "text/plain": [
       "82530"
      ]
     },
     "execution_count": 13,
     "metadata": {},
     "output_type": "execute_result"
    }
   ],
   "source": [
    "federer.size"
   ]
  },
  {
   "cell_type": "code",
   "execution_count": 14,
   "id": "0fcbfd8d-6348-4746-8b12-79cd66267992",
   "metadata": {},
   "outputs": [
    {
     "data": {
      "text/plain": [
       "Index(['year', 'tournament', 'start date', 'type', 'surface', 'draw',\n",
       "       'atp points', 'atp ranking', 'tournament prize money', 'round',\n",
       "       'opponent', 'ranking', 'score', 'stats link', 'tournament.1',\n",
       "       'tournament round', 'time', 'winner', 'player1 name',\n",
       "       'player1 nationality', 'player1 aces', 'player1 double faults',\n",
       "       'player1 1st serves in', 'player1 1st serves total',\n",
       "       'player1 1st serve points won', 'player1 1st serve points total',\n",
       "       'player1 2nd serve points won', 'player1 2nd serve points total',\n",
       "       'player1 break points won', 'player1 break points total',\n",
       "       'player1 service games played', 'player1 1st serve return points won',\n",
       "       'player1 1st serve return points total',\n",
       "       'player1 2nd serve return points won',\n",
       "       'player1 2nd serve return points total',\n",
       "       'player1 break points converted won',\n",
       "       'player1 break points converted total', 'player1 return games played',\n",
       "       'player1 total service points won',\n",
       "       'player1 total service points total', 'player1 total return points won',\n",
       "       'player1 total return points total', 'player1 total points won',\n",
       "       'player1 total points total', 'player2 name', 'player2 nationality',\n",
       "       'player2 aces', 'player2 double faults', 'player2 1st serves in',\n",
       "       'player2 1st serves total', 'player2 1st serve points won',\n",
       "       'player2 1st serve points total', 'player2 2nd serve points won',\n",
       "       'player2 2nd serve points total', 'player2 break points won',\n",
       "       'player2 break points total', 'player2 service games played',\n",
       "       'player2 1st serve return points won',\n",
       "       'player2 1st serve return points total',\n",
       "       'player2 2nd serve return points won',\n",
       "       'player2 2nd serve return points total',\n",
       "       'player2 break points converted won',\n",
       "       'player2 break points converted total', 'player2 return games played',\n",
       "       'player2 total service points won',\n",
       "       'player2 total service points total', 'player2 total return points won',\n",
       "       'player2 total return points total', 'player2 total points won',\n",
       "       'player2 total points total'],\n",
       "      dtype='object')"
      ]
     },
     "execution_count": 14,
     "metadata": {},
     "output_type": "execute_result"
    }
   ],
   "source": [
    "federer.columns"
   ]
  },
  {
   "cell_type": "code",
   "execution_count": 102,
   "id": "aa2ecdcd-7e29-4a47-8587-4903c11dec35",
   "metadata": {},
   "outputs": [
    {
     "data": {
      "text/plain": [
       "82.443"
      ]
     },
     "execution_count": 102,
     "metadata": {},
     "output_type": "execute_result"
    }
   ],
   "source": [
    "#How many % of matched won by our player? ('winner') - Roger Federer\n",
    "total_ = federer.winner.size\n",
    "Roger_df = federer.loc[federer['winner']=='Roger Federer',:]\n",
    "Roger_winning = Roger_df['winner'].size\n",
    "Roger_win_per = round((Roger_winning / total_)*100,3)\n",
    "Roger_win_per"
   ]
  },
  {
   "cell_type": "code",
   "execution_count": 113,
   "id": "c149fe0e-9a17-4fd1-af96-ee6d7af0fbcb",
   "metadata": {},
   "outputs": [
    {
     "data": {
      "text/plain": [
       "player1 name      1\n",
       "player2 name    282\n",
       "dtype: int64"
      ]
     },
     "execution_count": 113,
     "metadata": {},
     "output_type": "execute_result"
    }
   ],
   "source": [
    "#3. Proportion of double faults wrt total points in each match \n",
    "#This number is an indicator of the player's state of mind, his level of self-confidence, \n",
    "#his willingness to take risks while serving, and other parameters.\n",
    "#columns:\n",
    "#'player1 double faults' and 'player1 total points total'\n",
    "#Display simple stats of above \n",
    "\n",
    "federer[['player1 double faults','player1 total points total','player2 double faults','player2 total points total']]\n",
    "federer.loc[:,['player1 name','player2 name']].nunique()\n"
   ]
  },
  {
   "cell_type": "code",
   "execution_count": 116,
   "id": "0cf94dd2-e292-4526-9b7c-29117e82c78b",
   "metadata": {},
   "outputs": [
    {
     "data": {
      "text/html": [
       "<div>\n",
       "<style scoped>\n",
       "    .dataframe tbody tr th:only-of-type {\n",
       "        vertical-align: middle;\n",
       "    }\n",
       "\n",
       "    .dataframe tbody tr th {\n",
       "        vertical-align: top;\n",
       "    }\n",
       "\n",
       "    .dataframe thead th {\n",
       "        text-align: right;\n",
       "    }\n",
       "</style>\n",
       "<table border=\"1\" class=\"dataframe\">\n",
       "  <thead>\n",
       "    <tr style=\"text-align: right;\">\n",
       "      <th></th>\n",
       "      <th>double_fault_proportion_roger</th>\n",
       "      <th>double_fault_proportion_others</th>\n",
       "    </tr>\n",
       "  </thead>\n",
       "  <tbody>\n",
       "    <tr>\n",
       "      <th>0</th>\n",
       "      <td>0.019</td>\n",
       "      <td>0.010</td>\n",
       "    </tr>\n",
       "    <tr>\n",
       "      <th>1</th>\n",
       "      <td>0.000</td>\n",
       "      <td>0.000</td>\n",
       "    </tr>\n",
       "    <tr>\n",
       "      <th>2</th>\n",
       "      <td>0.020</td>\n",
       "      <td>0.027</td>\n",
       "    </tr>\n",
       "    <tr>\n",
       "      <th>3</th>\n",
       "      <td>0.046</td>\n",
       "      <td>0.008</td>\n",
       "    </tr>\n",
       "    <tr>\n",
       "      <th>4</th>\n",
       "      <td>NaN</td>\n",
       "      <td>NaN</td>\n",
       "    </tr>\n",
       "    <tr>\n",
       "      <th>...</th>\n",
       "      <td>...</td>\n",
       "      <td>...</td>\n",
       "    </tr>\n",
       "    <tr>\n",
       "      <th>1174</th>\n",
       "      <td>0.018</td>\n",
       "      <td>0.004</td>\n",
       "    </tr>\n",
       "    <tr>\n",
       "      <th>1175</th>\n",
       "      <td>0.000</td>\n",
       "      <td>0.035</td>\n",
       "    </tr>\n",
       "    <tr>\n",
       "      <th>1176</th>\n",
       "      <td>0.000</td>\n",
       "      <td>0.000</td>\n",
       "    </tr>\n",
       "    <tr>\n",
       "      <th>1177</th>\n",
       "      <td>0.012</td>\n",
       "      <td>0.000</td>\n",
       "    </tr>\n",
       "    <tr>\n",
       "      <th>1178</th>\n",
       "      <td>NaN</td>\n",
       "      <td>NaN</td>\n",
       "    </tr>\n",
       "  </tbody>\n",
       "</table>\n",
       "<p>1179 rows × 2 columns</p>\n",
       "</div>"
      ],
      "text/plain": [
       "      double_fault_proportion_roger  double_fault_proportion_others\n",
       "0                             0.019                           0.010\n",
       "1                             0.000                           0.000\n",
       "2                             0.020                           0.027\n",
       "3                             0.046                           0.008\n",
       "4                               NaN                             NaN\n",
       "...                             ...                             ...\n",
       "1174                          0.018                           0.004\n",
       "1175                          0.000                           0.035\n",
       "1176                          0.000                           0.000\n",
       "1177                          0.012                           0.000\n",
       "1178                            NaN                             NaN\n",
       "\n",
       "[1179 rows x 2 columns]"
      ]
     },
     "execution_count": 116,
     "metadata": {},
     "output_type": "execute_result"
    }
   ],
   "source": [
    "proportion_df = pd.DataFrame(round(federer['player1 double faults'] / federer['player1 total points total'], 3),columns=['double_fault_proportion_roger'])\n",
    "proportion_df['double_fault_proportion_others'] = pd.DataFrame(round(federer['player2 double faults'] / federer['player2 total points total'], 3))\n",
    "proportion_df"
   ]
  },
  {
   "cell_type": "code",
   "execution_count": 17,
   "id": "95c4cc9c-5e73-4425-842f-41007a41de71",
   "metadata": {},
   "outputs": [
    {
     "data": {
      "text/plain": [
       "player1 double faults         152\n",
       "player1 total points total    152\n",
       "dtype: int64"
      ]
     },
     "execution_count": 17,
     "metadata": {},
     "output_type": "execute_result"
    }
   ],
   "source": [
    "#federer[['player1 double faults','player1 total points total']].isnull().sum()"
   ]
  },
  {
   "cell_type": "code",
   "execution_count": null,
   "id": "3d29d893-863e-4f84-8f9d-e90760b6db1f",
   "metadata": {},
   "outputs": [],
   "source": [
    "#4. Average Win per surface\n",
    "federer['surface'].unique()\n",
    "federer.surface"
   ]
  },
  {
   "cell_type": "code",
   "execution_count": 91,
   "id": "ff38f523-83bd-4999-bbae-561a2cebb6e9",
   "metadata": {},
   "outputs": [
    {
     "data": {
      "text/html": [
       "<div>\n",
       "<style scoped>\n",
       "    .dataframe tbody tr th:only-of-type {\n",
       "        vertical-align: middle;\n",
       "    }\n",
       "\n",
       "    .dataframe tbody tr th {\n",
       "        vertical-align: top;\n",
       "    }\n",
       "\n",
       "    .dataframe thead th {\n",
       "        text-align: right;\n",
       "    }\n",
       "</style>\n",
       "<table border=\"1\" class=\"dataframe\">\n",
       "  <thead>\n",
       "    <tr style=\"text-align: right;\">\n",
       "      <th></th>\n",
       "      <th>winner</th>\n",
       "    </tr>\n",
       "    <tr>\n",
       "      <th>surface</th>\n",
       "      <th></th>\n",
       "    </tr>\n",
       "  </thead>\n",
       "  <tbody>\n",
       "    <tr>\n",
       "      <th>Indoor: Carpet</th>\n",
       "      <td>76</td>\n",
       "    </tr>\n",
       "    <tr>\n",
       "      <th>Indoor: Clay</th>\n",
       "      <td>6</td>\n",
       "    </tr>\n",
       "    <tr>\n",
       "      <th>Indoor: Hard</th>\n",
       "      <td>226</td>\n",
       "    </tr>\n",
       "    <tr>\n",
       "      <th>Outdoor: Clay</th>\n",
       "      <td>249</td>\n",
       "    </tr>\n",
       "    <tr>\n",
       "      <th>Outdoor: Grass</th>\n",
       "      <td>140</td>\n",
       "    </tr>\n",
       "    <tr>\n",
       "      <th>Outdoor: Hard</th>\n",
       "      <td>482</td>\n",
       "    </tr>\n",
       "  </tbody>\n",
       "</table>\n",
       "</div>"
      ],
      "text/plain": [
       "                winner\n",
       "surface               \n",
       "Indoor: Carpet      76\n",
       "Indoor: Clay         6\n",
       "Indoor: Hard       226\n",
       "Outdoor: Clay      249\n",
       "Outdoor: Grass     140\n",
       "Outdoor: Hard      482"
      ]
     },
     "execution_count": 91,
     "metadata": {},
     "output_type": "execute_result"
    }
   ],
   "source": [
    "federer.columns\n",
    "federer_surface = federer.groupby('surface').agg({'winner':'count'})\n",
    "federer_surface"
   ]
  },
  {
   "cell_type": "code",
   "execution_count": 96,
   "id": "090fcaed-88e1-4a71-b5d0-7aab2d8a6dc9",
   "metadata": {},
   "outputs": [],
   "source": [
    "Roger_df_surface =Roger_df.groupby('surface').agg({'winner':'count'})\n",
    "Roger_df_surface.columns = ['roger_win']"
   ]
  },
  {
   "cell_type": "code",
   "execution_count": 100,
   "id": "85d0c705-1706-4cbe-8571-30b31f963adf",
   "metadata": {},
   "outputs": [
    {
     "data": {
      "text/html": [
       "<div>\n",
       "<style scoped>\n",
       "    .dataframe tbody tr th:only-of-type {\n",
       "        vertical-align: middle;\n",
       "    }\n",
       "\n",
       "    .dataframe tbody tr th {\n",
       "        vertical-align: top;\n",
       "    }\n",
       "\n",
       "    .dataframe thead th {\n",
       "        text-align: right;\n",
       "    }\n",
       "</style>\n",
       "<table border=\"1\" class=\"dataframe\">\n",
       "  <thead>\n",
       "    <tr style=\"text-align: right;\">\n",
       "      <th></th>\n",
       "      <th>winner</th>\n",
       "      <th>roger_win</th>\n",
       "      <th>avg_win_%_roger</th>\n",
       "    </tr>\n",
       "    <tr>\n",
       "      <th>surface</th>\n",
       "      <th></th>\n",
       "      <th></th>\n",
       "      <th></th>\n",
       "    </tr>\n",
       "  </thead>\n",
       "  <tbody>\n",
       "    <tr>\n",
       "      <th>Indoor: Carpet</th>\n",
       "      <td>76</td>\n",
       "      <td>56</td>\n",
       "      <td>0.737</td>\n",
       "    </tr>\n",
       "    <tr>\n",
       "      <th>Indoor: Clay</th>\n",
       "      <td>6</td>\n",
       "      <td>5</td>\n",
       "      <td>0.833</td>\n",
       "    </tr>\n",
       "    <tr>\n",
       "      <th>Indoor: Hard</th>\n",
       "      <td>226</td>\n",
       "      <td>189</td>\n",
       "      <td>0.836</td>\n",
       "    </tr>\n",
       "    <tr>\n",
       "      <th>Outdoor: Clay</th>\n",
       "      <td>249</td>\n",
       "      <td>194</td>\n",
       "      <td>0.779</td>\n",
       "    </tr>\n",
       "    <tr>\n",
       "      <th>Outdoor: Grass</th>\n",
       "      <td>140</td>\n",
       "      <td>122</td>\n",
       "      <td>0.871</td>\n",
       "    </tr>\n",
       "    <tr>\n",
       "      <th>Outdoor: Hard</th>\n",
       "      <td>482</td>\n",
       "      <td>406</td>\n",
       "      <td>0.842</td>\n",
       "    </tr>\n",
       "  </tbody>\n",
       "</table>\n",
       "</div>"
      ],
      "text/plain": [
       "                winner  roger_win  avg_win_%_roger\n",
       "surface                                           \n",
       "Indoor: Carpet      76         56            0.737\n",
       "Indoor: Clay         6          5            0.833\n",
       "Indoor: Hard       226        189            0.836\n",
       "Outdoor: Clay      249        194            0.779\n",
       "Outdoor: Grass     140        122            0.871\n",
       "Outdoor: Hard      482        406            0.842"
      ]
     },
     "execution_count": 100,
     "metadata": {},
     "output_type": "execute_result"
    }
   ],
   "source": [
    "ave_df = federer_surface.merge(Roger_df_surface,on='surface')\n",
    "ave_df['avg_win_%_roger'] = round(ave_df['roger_win']/ave_df['winner'],3)\n",
    "ave_df"
   ]
  },
  {
   "cell_type": "code",
   "execution_count": null,
   "id": "45c1bbfe-8782-4dae-9cb7-ca9fb4c8e3c1",
   "metadata": {},
   "outputs": [],
   "source": [
    "#5. Display the proportion of double faults as a function of the tournament date, 'start date'\n",
    "#Trend: display average double faults in each year "
   ]
  },
  {
   "cell_type": "code",
   "execution_count": 129,
   "id": "d257e49c-c302-4b0b-8739-85d2a70f4faa",
   "metadata": {},
   "outputs": [
    {
     "data": {
      "text/plain": [
       "Index(['year', 'tournament', 'start date', 'type', 'surface', 'draw',\n",
       "       'atp points', 'atp ranking', 'tournament prize money', 'round',\n",
       "       'opponent', 'ranking', 'score', 'stats link', 'tournament.1',\n",
       "       'tournament round', 'time', 'winner', 'player1 name',\n",
       "       'player1 nationality', 'player1 aces', 'player1 double faults',\n",
       "       'player1 1st serves in', 'player1 1st serves total',\n",
       "       'player1 1st serve points won', 'player1 1st serve points total',\n",
       "       'player1 2nd serve points won', 'player1 2nd serve points total',\n",
       "       'player1 break points won', 'player1 break points total',\n",
       "       'player1 service games played', 'player1 1st serve return points won',\n",
       "       'player1 1st serve return points total',\n",
       "       'player1 2nd serve return points won',\n",
       "       'player1 2nd serve return points total',\n",
       "       'player1 break points converted won',\n",
       "       'player1 break points converted total', 'player1 return games played',\n",
       "       'player1 total service points won',\n",
       "       'player1 total service points total', 'player1 total return points won',\n",
       "       'player1 total return points total', 'player1 total points won',\n",
       "       'player1 total points total', 'player2 name', 'player2 nationality',\n",
       "       'player2 aces', 'player2 double faults', 'player2 1st serves in',\n",
       "       'player2 1st serves total', 'player2 1st serve points won',\n",
       "       'player2 1st serve points total', 'player2 2nd serve points won',\n",
       "       'player2 2nd serve points total', 'player2 break points won',\n",
       "       'player2 break points total', 'player2 service games played',\n",
       "       'player2 1st serve return points won',\n",
       "       'player2 1st serve return points total',\n",
       "       'player2 2nd serve return points won',\n",
       "       'player2 2nd serve return points total',\n",
       "       'player2 break points converted won',\n",
       "       'player2 break points converted total', 'player2 return games played',\n",
       "       'player2 total service points won',\n",
       "       'player2 total service points total', 'player2 total return points won',\n",
       "       'player2 total return points total', 'player2 total points won',\n",
       "       'player2 total points total'],\n",
       "      dtype='object')"
      ]
     },
     "execution_count": 129,
     "metadata": {},
     "output_type": "execute_result"
    }
   ],
   "source": [
    "federer.columns"
   ]
  },
  {
   "cell_type": "code",
   "execution_count": 121,
   "id": "b8e99fbe-ec85-402e-b925-feb8be619e4a",
   "metadata": {},
   "outputs": [
    {
     "data": {
      "text/plain": [
       "('28.09.1998', str)"
      ]
     },
     "execution_count": 121,
     "metadata": {},
     "output_type": "execute_result"
    }
   ],
   "source": [
    "federer['start date'][2],type(federer['start date'][0])"
   ]
  },
  {
   "cell_type": "code",
   "execution_count": 122,
   "id": "1f452c44-7d91-47e1-8a46-49105688d90b",
   "metadata": {},
   "outputs": [],
   "source": [
    "federer['start date'] = pd.to_datetime(federer['start date'],format = '%d.%m.%Y')"
   ]
  },
  {
   "cell_type": "code",
   "execution_count": 123,
   "id": "1ba4e1fe-ccaf-4fc6-8bfa-22b1f38f8508",
   "metadata": {},
   "outputs": [
    {
     "data": {
      "text/plain": [
       "(Timestamp('1998-09-28 00:00:00'), pandas._libs.tslibs.timestamps.Timestamp)"
      ]
     },
     "execution_count": 123,
     "metadata": {},
     "output_type": "execute_result"
    }
   ],
   "source": [
    "federer['start date'][2],type(federer['start date'][0])"
   ]
  },
  {
   "cell_type": "code",
   "execution_count": 124,
   "id": "3d054eb3-e0b7-4761-8cf6-0b757e374779",
   "metadata": {},
   "outputs": [],
   "source": [
    "federer['year'] = federer['start date'].dt.year "
   ]
  },
  {
   "cell_type": "code",
   "execution_count": 133,
   "id": "17bada5e-fe03-4e6f-a014-eab229ade04a",
   "metadata": {},
   "outputs": [
    {
     "data": {
      "text/plain": [
       "294"
      ]
     },
     "execution_count": 133,
     "metadata": {},
     "output_type": "execute_result"
    }
   ],
   "source": [
    "federer['start date'].unique().size"
   ]
  },
  {
   "cell_type": "code",
   "execution_count": 137,
   "id": "ac6209dd-b7e4-4dd7-a769-1b3038905e00",
   "metadata": {},
   "outputs": [
    {
     "data": {
      "text/html": [
       "<div>\n",
       "<style scoped>\n",
       "    .dataframe tbody tr th:only-of-type {\n",
       "        vertical-align: middle;\n",
       "    }\n",
       "\n",
       "    .dataframe tbody tr th {\n",
       "        vertical-align: top;\n",
       "    }\n",
       "\n",
       "    .dataframe thead th {\n",
       "        text-align: right;\n",
       "    }\n",
       "</style>\n",
       "<table border=\"1\" class=\"dataframe\">\n",
       "  <thead>\n",
       "    <tr style=\"text-align: right;\">\n",
       "      <th></th>\n",
       "      <th>player1 double faults</th>\n",
       "      <th>player1 total points total</th>\n",
       "      <th>proportion of double faults</th>\n",
       "    </tr>\n",
       "    <tr>\n",
       "      <th>start date</th>\n",
       "      <th></th>\n",
       "      <th></th>\n",
       "      <th></th>\n",
       "    </tr>\n",
       "  </thead>\n",
       "  <tbody>\n",
       "    <tr>\n",
       "      <th>1998-07-06</th>\n",
       "      <td>3.0</td>\n",
       "      <td>136.0</td>\n",
       "      <td>0.022</td>\n",
       "    </tr>\n",
       "    <tr>\n",
       "      <th>1998-08-24</th>\n",
       "      <td>0.0</td>\n",
       "      <td>0.0</td>\n",
       "      <td>NaN</td>\n",
       "    </tr>\n",
       "    <tr>\n",
       "      <th>1998-09-28</th>\n",
       "      <td>9.0</td>\n",
       "      <td>384.0</td>\n",
       "      <td>0.023</td>\n",
       "    </tr>\n",
       "    <tr>\n",
       "      <th>1998-10-05</th>\n",
       "      <td>2.0</td>\n",
       "      <td>103.0</td>\n",
       "      <td>0.019</td>\n",
       "    </tr>\n",
       "    <tr>\n",
       "      <th>1999-01-25</th>\n",
       "      <td>0.0</td>\n",
       "      <td>0.0</td>\n",
       "      <td>NaN</td>\n",
       "    </tr>\n",
       "    <tr>\n",
       "      <th>...</th>\n",
       "      <td>...</td>\n",
       "      <td>...</td>\n",
       "      <td>...</td>\n",
       "    </tr>\n",
       "    <tr>\n",
       "      <th>2012-08-27</th>\n",
       "      <td>7.0</td>\n",
       "      <td>707.0</td>\n",
       "      <td>0.010</td>\n",
       "    </tr>\n",
       "    <tr>\n",
       "      <th>2012-09-14</th>\n",
       "      <td>0.0</td>\n",
       "      <td>0.0</td>\n",
       "      <td>NaN</td>\n",
       "    </tr>\n",
       "    <tr>\n",
       "      <th>2012-10-07</th>\n",
       "      <td>9.0</td>\n",
       "      <td>569.0</td>\n",
       "      <td>0.016</td>\n",
       "    </tr>\n",
       "    <tr>\n",
       "      <th>2012-10-22</th>\n",
       "      <td>4.0</td>\n",
       "      <td>775.0</td>\n",
       "      <td>0.005</td>\n",
       "    </tr>\n",
       "    <tr>\n",
       "      <th>2012-11-05</th>\n",
       "      <td>7.0</td>\n",
       "      <td>743.0</td>\n",
       "      <td>0.009</td>\n",
       "    </tr>\n",
       "  </tbody>\n",
       "</table>\n",
       "<p>294 rows × 3 columns</p>\n",
       "</div>"
      ],
      "text/plain": [
       "            player1 double faults  player1 total points total  \\\n",
       "start date                                                      \n",
       "1998-07-06                    3.0                       136.0   \n",
       "1998-08-24                    0.0                         0.0   \n",
       "1998-09-28                    9.0                       384.0   \n",
       "1998-10-05                    2.0                       103.0   \n",
       "1999-01-25                    0.0                         0.0   \n",
       "...                           ...                         ...   \n",
       "2012-08-27                    7.0                       707.0   \n",
       "2012-09-14                    0.0                         0.0   \n",
       "2012-10-07                    9.0                       569.0   \n",
       "2012-10-22                    4.0                       775.0   \n",
       "2012-11-05                    7.0                       743.0   \n",
       "\n",
       "            proportion of double faults  \n",
       "start date                               \n",
       "1998-07-06                        0.022  \n",
       "1998-08-24                          NaN  \n",
       "1998-09-28                        0.023  \n",
       "1998-10-05                        0.019  \n",
       "1999-01-25                          NaN  \n",
       "...                                 ...  \n",
       "2012-08-27                        0.010  \n",
       "2012-09-14                          NaN  \n",
       "2012-10-07                        0.016  \n",
       "2012-10-22                        0.005  \n",
       "2012-11-05                        0.009  \n",
       "\n",
       "[294 rows x 3 columns]"
      ]
     },
     "execution_count": 137,
     "metadata": {},
     "output_type": "execute_result"
    }
   ],
   "source": [
    "#player 1 Roger---\n",
    "proportion_per_day = federer.groupby('start date').agg({'player1 double faults':'sum','player1 total points total':'sum'})\n",
    "proportion_per_day\n",
    "proportion_per_day['proportion of double faults'] = round(proportion_per_day['player1 double faults'] / proportion_per_day['player1 total points total'],3)\n",
    "proportion_per_day"
   ]
  },
  {
   "cell_type": "code",
   "execution_count": 140,
   "id": "d1c74f6d-04a3-41ab-90ff-272521e7f12c",
   "metadata": {},
   "outputs": [
    {
     "data": {
      "text/html": [
       "<div>\n",
       "<style scoped>\n",
       "    .dataframe tbody tr th:only-of-type {\n",
       "        vertical-align: middle;\n",
       "    }\n",
       "\n",
       "    .dataframe tbody tr th {\n",
       "        vertical-align: top;\n",
       "    }\n",
       "\n",
       "    .dataframe thead th {\n",
       "        text-align: right;\n",
       "    }\n",
       "</style>\n",
       "<table border=\"1\" class=\"dataframe\">\n",
       "  <thead>\n",
       "    <tr style=\"text-align: right;\">\n",
       "      <th></th>\n",
       "      <th>player1 double faults</th>\n",
       "      <th>player1 total points total</th>\n",
       "      <th>proportion of double faults</th>\n",
       "    </tr>\n",
       "    <tr>\n",
       "      <th>year</th>\n",
       "      <th></th>\n",
       "      <th></th>\n",
       "      <th></th>\n",
       "    </tr>\n",
       "  </thead>\n",
       "  <tbody>\n",
       "    <tr>\n",
       "      <th>1998</th>\n",
       "      <td>14.0</td>\n",
       "      <td>623.0</td>\n",
       "      <td>0.022</td>\n",
       "    </tr>\n",
       "    <tr>\n",
       "      <th>1999</th>\n",
       "      <td>92.0</td>\n",
       "      <td>4024.0</td>\n",
       "      <td>0.023</td>\n",
       "    </tr>\n",
       "    <tr>\n",
       "      <th>2000</th>\n",
       "      <td>203.0</td>\n",
       "      <td>9531.0</td>\n",
       "      <td>0.021</td>\n",
       "    </tr>\n",
       "    <tr>\n",
       "      <th>2001</th>\n",
       "      <td>203.0</td>\n",
       "      <td>11666.0</td>\n",
       "      <td>0.017</td>\n",
       "    </tr>\n",
       "    <tr>\n",
       "      <th>2002</th>\n",
       "      <td>205.0</td>\n",
       "      <td>11816.0</td>\n",
       "      <td>0.017</td>\n",
       "    </tr>\n",
       "    <tr>\n",
       "      <th>2003</th>\n",
       "      <td>258.0</td>\n",
       "      <td>13361.0</td>\n",
       "      <td>0.019</td>\n",
       "    </tr>\n",
       "    <tr>\n",
       "      <th>2004</th>\n",
       "      <td>156.0</td>\n",
       "      <td>11483.0</td>\n",
       "      <td>0.014</td>\n",
       "    </tr>\n",
       "    <tr>\n",
       "      <th>2005</th>\n",
       "      <td>152.0</td>\n",
       "      <td>13644.0</td>\n",
       "      <td>0.011</td>\n",
       "    </tr>\n",
       "    <tr>\n",
       "      <th>2006</th>\n",
       "      <td>118.0</td>\n",
       "      <td>15491.0</td>\n",
       "      <td>0.008</td>\n",
       "    </tr>\n",
       "    <tr>\n",
       "      <th>2007</th>\n",
       "      <td>86.0</td>\n",
       "      <td>12064.0</td>\n",
       "      <td>0.007</td>\n",
       "    </tr>\n",
       "    <tr>\n",
       "      <th>2008</th>\n",
       "      <td>77.0</td>\n",
       "      <td>12859.0</td>\n",
       "      <td>0.006</td>\n",
       "    </tr>\n",
       "    <tr>\n",
       "      <th>2009</th>\n",
       "      <td>134.0</td>\n",
       "      <td>12444.0</td>\n",
       "      <td>0.011</td>\n",
       "    </tr>\n",
       "    <tr>\n",
       "      <th>2010</th>\n",
       "      <td>110.0</td>\n",
       "      <td>12224.0</td>\n",
       "      <td>0.009</td>\n",
       "    </tr>\n",
       "    <tr>\n",
       "      <th>2011</th>\n",
       "      <td>98.0</td>\n",
       "      <td>11028.0</td>\n",
       "      <td>0.009</td>\n",
       "    </tr>\n",
       "    <tr>\n",
       "      <th>2012</th>\n",
       "      <td>120.0</td>\n",
       "      <td>12808.0</td>\n",
       "      <td>0.009</td>\n",
       "    </tr>\n",
       "  </tbody>\n",
       "</table>\n",
       "</div>"
      ],
      "text/plain": [
       "      player1 double faults  player1 total points total  \\\n",
       "year                                                      \n",
       "1998                   14.0                       623.0   \n",
       "1999                   92.0                      4024.0   \n",
       "2000                  203.0                      9531.0   \n",
       "2001                  203.0                     11666.0   \n",
       "2002                  205.0                     11816.0   \n",
       "2003                  258.0                     13361.0   \n",
       "2004                  156.0                     11483.0   \n",
       "2005                  152.0                     13644.0   \n",
       "2006                  118.0                     15491.0   \n",
       "2007                   86.0                     12064.0   \n",
       "2008                   77.0                     12859.0   \n",
       "2009                  134.0                     12444.0   \n",
       "2010                  110.0                     12224.0   \n",
       "2011                   98.0                     11028.0   \n",
       "2012                  120.0                     12808.0   \n",
       "\n",
       "      proportion of double faults  \n",
       "year                               \n",
       "1998                        0.022  \n",
       "1999                        0.023  \n",
       "2000                        0.021  \n",
       "2001                        0.017  \n",
       "2002                        0.017  \n",
       "2003                        0.019  \n",
       "2004                        0.014  \n",
       "2005                        0.011  \n",
       "2006                        0.008  \n",
       "2007                        0.007  \n",
       "2008                        0.006  \n",
       "2009                        0.011  \n",
       "2010                        0.009  \n",
       "2011                        0.009  \n",
       "2012                        0.009  "
      ]
     },
     "execution_count": 140,
     "metadata": {},
     "output_type": "execute_result"
    }
   ],
   "source": [
    "#Trend: display average double faults in each year \n",
    "proportion_per_year = federer.groupby('year').agg({'player1 double faults':'sum','player1 total points total':'sum'})\n",
    "proportion_per_year\n",
    "proportion_per_year['proportion of double faults'] = round(proportion_per_year['player1 double faults'] / proportion_per_year['player1 total points total'],3)\n",
    "proportion_per_year"
   ]
  },
  {
   "cell_type": "code",
   "execution_count": 141,
   "id": "96a83beb-fd5f-4c9a-b3a6-ac4d1dd1afcf",
   "metadata": {},
   "outputs": [
    {
     "data": {
      "image/png": "[encoded data removed]",
      "text/plain": [
       "<Figure size 1000x600 with 1 Axes>"
      ]
     },
     "metadata": {},
     "output_type": "display_data"
    }
   ],
   "source": [
    "plt.figure(figsize=(10, 6))\n",
    "plt.plot(proportion_per_year.index, proportion_per_year['proportion of double faults'], marker='o', linestyle='-', color='orange')\n",
    "plt.title(\"proportion of double faults per year\")\n",
    "plt.xlabel(\"Year\")\n",
    "plt.ylabel(\"proportion\")\n",
    "plt.grid(axis='y')\n",
    "plt.tight_layout()\n",
    "plt.show()"
   ]
  },
  {
   "cell_type": "code",
   "execution_count": null,
   "id": "a0b2167b-c505-4b3d-a522-b03af3b22c3a",
   "metadata": {},
   "outputs": [],
   "source": []
  },
  {
   "cell_type": "raw",
   "id": "3f81a754-7bc1-43ae-9c35-76ed3dba02fe",
   "metadata": {},
   "source": [
    "D. \n",
    "Create two frequencies 5Hz and 50Hz sin signals \n",
    "Draw FFT components"
   ]
  },
  {
   "cell_type": "code",
   "execution_count": null,
   "id": "0887de0c-ca6a-492f-a3b5-0baca508350c",
   "metadata": {},
   "outputs": [],
   "source": []
  },
  {
   "cell_type": "raw",
   "id": "59bacb61-c413-41ce-9d10-0a5a8c2e6007",
   "metadata": {},
   "source": [
    "E. Plotting normal random numbers\n",
    "and show that addition of two Gaussian is Gaussian \n",
    "and addition of all is Gaussian"
   ]
  },
  {
   "cell_type": "code",
   "execution_count": null,
   "id": "ac5efc7b-f47e-4191-89ab-ea60b1d6b6c2",
   "metadata": {},
   "outputs": [],
   "source": []
  }
 ],
 "metadata": {
  "kernelspec": {
   "display_name": "Python 3 (ipykernel)",
   "language": "python",
   "name": "python3"
  },
  "language_info": {
   "codemirror_mode": {
    "name": "ipython",
    "version": 3
   },
   "file_extension": ".py",
   "mimetype": "text/x-python",
   "name": "python",
   "nbconvert_exporter": "python",
   "pygments_lexer": "ipython3",
   "version": "3.12.8"
  }
 },
 "nbformat": 4,
 "nbformat_minor": 5
}
